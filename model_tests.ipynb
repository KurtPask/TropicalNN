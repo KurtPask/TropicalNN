{
 "cells": [
  {
   "cell_type": "code",
   "execution_count": 1,
   "metadata": {},
   "outputs": [],
   "source": [
    "from functions.load_data import load_CIFAR_data, load_Google_Digit_Data, load_MNIST_data, shuffle_data\n",
    "from functions.attacks import attackTestSet, attackTestSetBatch\n",
    "from functions.models import simple_relu_model, simple_tropical_model, TropicalResNet50, ReLUResNet50\n",
    "from custom_layers.initializers import BimodalBinaryInitializer, BimodalNormalInitializer, Triangular\n",
    "from tensorflow.keras import losses, initializers\n",
    "import pandas as pd\n",
    "import numpy as np\n",
    "import matplotlib.pyplot as plt\n",
    "import csv\n",
    "import os\n",
    "os.environ[\"KMP_DUPLICATE_LIB_OK\"]=\"TRUE\"\n",
    "from custom_layers.tropical_layers import TropEmbedMaxMin, TropConv2D\n",
    "from custom_layers.initializers import BimodalNormalInitializer\n",
    "from tensorflow.keras import Sequential\n",
    "from tensorflow.keras.layers import Dense, MaxPooling2D, Flatten, Conv2D, Dropout, Reshape, Conv1D, MaxPooling1D\n",
    "from tensorflow.keras.optimizers import Adam\n",
    "from tensorflow.keras import initializers\n",
    "import time"
   ]
  },
  {
   "cell_type": "code",
   "execution_count": 2,
   "metadata": {},
   "outputs": [],
   "source": [
    "from custom_layers.tropical_layers import TropEmbedMaxMin, TropConv2D\n",
    "from custom_layers.initializers import BimodalNormalInitializer\n",
    "from tensorflow.keras import Sequential\n",
    "from tensorflow.keras.layers import Dense, MaxPooling2D, Flatten, Conv2D, Dropout, Reshape, Conv1D, MaxPooling1D\n",
    "from tensorflow.keras.optimizers import Adam\n",
    "from tensorflow.keras import initializers\n",
    "import time"
   ]
  },
  {
   "cell_type": "code",
   "execution_count": 3,
   "metadata": {},
   "outputs": [],
   "source": [
    "# -- load SVNH data -- \n",
    "x_train, x_test, y_train, y_test = load_Google_Digit_Data(desired_classes=[i for i in range(10)])\n",
    "x_train = x_train.reshape(-1,32,32,3)\n",
    "x_test = x_test.reshape(-1,32,32,3)"
   ]
  },
  {
   "cell_type": "code",
   "execution_count": 3,
   "metadata": {},
   "outputs": [],
   "source": [
    "# -- load MNIST data -- \n",
    "x_train, x_test, y_train, y_test = load_MNIST_data(desired_classes=[i for i in range(10)])\n",
    "x_train = x_train.reshape(-1,28,28,1)\n",
    "x_test = x_test.reshape(-1,28,28,1)"
   ]
  },
  {
   "cell_type": "code",
   "execution_count": 14,
   "metadata": {},
   "outputs": [
    {
     "name": "stdout",
     "output_type": "stream",
     "text": [
      "Epoch 1/10\n",
      " 31/938 [..............................] - ETA: 3:16 - loss: 6363.5205 - accuracy: 0.0953"
     ]
    },
    {
     "ename": "KeyboardInterrupt",
     "evalue": "",
     "output_type": "error",
     "traceback": [
      "\u001b[1;31m---------------------------------------------------------------------------\u001b[0m",
      "\u001b[1;31mKeyboardInterrupt\u001b[0m                         Traceback (most recent call last)",
      "\u001b[1;32mc:\\Users\\kurtp\\OneDrive - Naval Postgraduate School\\Desktop\\NPS School Work\\Thesis\\TropicalNN\\initializer_tests.ipynb Cell 4\u001b[0m line \u001b[0;36m3\n\u001b[0;32m     <a href='vscode-notebook-cell:/c%3A/Users/kurtp/OneDrive%20-%20Naval%20Postgraduate%20School/Desktop/NPS%20School%20Work/Thesis/TropicalNN/initializer_tests.ipynb#X10sZmlsZQ%3D%3D?line=29'>30</a>\u001b[0m     \u001b[39m#model.build(input_shape=(32, 28, 28, 1))\u001b[39;00m\n\u001b[0;32m     <a href='vscode-notebook-cell:/c%3A/Users/kurtp/OneDrive%20-%20Naval%20Postgraduate%20School/Desktop/NPS%20School%20Work/Thesis/TropicalNN/initializer_tests.ipynb#X10sZmlsZQ%3D%3D?line=30'>31</a>\u001b[0m     \u001b[39m#model.summary()\u001b[39;00m\n\u001b[0;32m     <a href='vscode-notebook-cell:/c%3A/Users/kurtp/OneDrive%20-%20Naval%20Postgraduate%20School/Desktop/NPS%20School%20Work/Thesis/TropicalNN/initializer_tests.ipynb#X10sZmlsZQ%3D%3D?line=31'>32</a>\u001b[0m     \u001b[39mreturn\u001b[39;00m model\n\u001b[1;32m---> <a href='vscode-notebook-cell:/c%3A/Users/kurtp/OneDrive%20-%20Naval%20Postgraduate%20School/Desktop/NPS%20School%20Work/Thesis/TropicalNN/initializer_tests.ipynb#X10sZmlsZQ%3D%3D?line=33'>34</a>\u001b[0m conv_trop_then_relu_3layer_model(x_train\u001b[39m=\u001b[39;49mx_train, y_train\u001b[39m=\u001b[39;49my_train, lam \u001b[39m=\u001b[39;49m \u001b[39m0.01\u001b[39;49m)\n",
      "\u001b[1;32mc:\\Users\\kurtp\\OneDrive - Naval Postgraduate School\\Desktop\\NPS School Work\\Thesis\\TropicalNN\\initializer_tests.ipynb Cell 4\u001b[0m line \u001b[0;36m2\n\u001b[0;32m     <a href='vscode-notebook-cell:/c%3A/Users/kurtp/OneDrive%20-%20Naval%20Postgraduate%20School/Desktop/NPS%20School%20Work/Thesis/TropicalNN/initializer_tests.ipynb#X10sZmlsZQ%3D%3D?line=12'>13</a>\u001b[0m model \u001b[39m=\u001b[39m Sequential([Flatten(),\n\u001b[0;32m     <a href='vscode-notebook-cell:/c%3A/Users/kurtp/OneDrive%20-%20Naval%20Postgraduate%20School/Desktop/NPS%20School%20Work/Thesis/TropicalNN/initializer_tests.ipynb#X10sZmlsZQ%3D%3D?line=13'>14</a>\u001b[0m                     TropEmbedMaxMin(\u001b[39m1024\u001b[39m, initializer_w \u001b[39m=\u001b[39m initializer_trop, lam\u001b[39m=\u001b[39mlam),\n\u001b[0;32m     <a href='vscode-notebook-cell:/c%3A/Users/kurtp/OneDrive%20-%20Naval%20Postgraduate%20School/Desktop/NPS%20School%20Work/Thesis/TropicalNN/initializer_tests.ipynb#X10sZmlsZQ%3D%3D?line=14'>15</a>\u001b[0m                     Reshape((\u001b[39m1024\u001b[39m, \u001b[39m1\u001b[39m)),\n\u001b[1;32m   (...)\u001b[0m\n\u001b[0;32m     <a href='vscode-notebook-cell:/c%3A/Users/kurtp/OneDrive%20-%20Naval%20Postgraduate%20School/Desktop/NPS%20School%20Work/Thesis/TropicalNN/initializer_tests.ipynb#X10sZmlsZQ%3D%3D?line=21'>22</a>\u001b[0m                     Dense(\u001b[39m64\u001b[39m, activation\u001b[39m=\u001b[39m\u001b[39m'\u001b[39m\u001b[39mrelu\u001b[39m\u001b[39m'\u001b[39m, kernel_initializer \u001b[39m=\u001b[39m initializer_relu),\n\u001b[0;32m     <a href='vscode-notebook-cell:/c%3A/Users/kurtp/OneDrive%20-%20Naval%20Postgraduate%20School/Desktop/NPS%20School%20Work/Thesis/TropicalNN/initializer_tests.ipynb#X10sZmlsZQ%3D%3D?line=22'>23</a>\u001b[0m                     Dense(\u001b[39m10\u001b[39m, activation\u001b[39m=\u001b[39mfinal_layer_activation, kernel_initializer \u001b[39m=\u001b[39m initializer_relu)])\n\u001b[0;32m     <a href='vscode-notebook-cell:/c%3A/Users/kurtp/OneDrive%20-%20Naval%20Postgraduate%20School/Desktop/NPS%20School%20Work/Thesis/TropicalNN/initializer_tests.ipynb#X10sZmlsZQ%3D%3D?line=23'>24</a>\u001b[0m model\u001b[39m.\u001b[39mcompile(optimizer\u001b[39m=\u001b[39m\u001b[39m'\u001b[39m\u001b[39madam\u001b[39m\u001b[39m'\u001b[39m, loss\u001b[39m=\u001b[39mtraining_loss, metrics\u001b[39m=\u001b[39m[\u001b[39m'\u001b[39m\u001b[39maccuracy\u001b[39m\u001b[39m'\u001b[39m])\n\u001b[1;32m---> <a href='vscode-notebook-cell:/c%3A/Users/kurtp/OneDrive%20-%20Naval%20Postgraduate%20School/Desktop/NPS%20School%20Work/Thesis/TropicalNN/initializer_tests.ipynb#X10sZmlsZQ%3D%3D?line=24'>25</a>\u001b[0m model\u001b[39m.\u001b[39;49mfit(x_train, y_train, epochs\u001b[39m=\u001b[39;49mnum_epochs,batch_size\u001b[39m=\u001b[39;49mbatch_size, verbose\u001b[39m=\u001b[39;49mverbose)\n\u001b[0;32m     <a href='vscode-notebook-cell:/c%3A/Users/kurtp/OneDrive%20-%20Naval%20Postgraduate%20School/Desktop/NPS%20School%20Work/Thesis/TropicalNN/initializer_tests.ipynb#X10sZmlsZQ%3D%3D?line=25'>26</a>\u001b[0m end_time \u001b[39m=\u001b[39m time\u001b[39m.\u001b[39mtime()\n\u001b[0;32m     <a href='vscode-notebook-cell:/c%3A/Users/kurtp/OneDrive%20-%20Naval%20Postgraduate%20School/Desktop/NPS%20School%20Work/Thesis/TropicalNN/initializer_tests.ipynb#X10sZmlsZQ%3D%3D?line=26'>27</a>\u001b[0m elapsed_time \u001b[39m=\u001b[39m end_time \u001b[39m-\u001b[39m start_time\n",
      "File \u001b[1;32mc:\\Users\\kurtp\\anaconda3\\lib\\site-packages\\keras\\utils\\traceback_utils.py:65\u001b[0m, in \u001b[0;36mfilter_traceback.<locals>.error_handler\u001b[1;34m(*args, **kwargs)\u001b[0m\n\u001b[0;32m     63\u001b[0m filtered_tb \u001b[39m=\u001b[39m \u001b[39mNone\u001b[39;00m\n\u001b[0;32m     64\u001b[0m \u001b[39mtry\u001b[39;00m:\n\u001b[1;32m---> 65\u001b[0m     \u001b[39mreturn\u001b[39;00m fn(\u001b[39m*\u001b[39margs, \u001b[39m*\u001b[39m\u001b[39m*\u001b[39mkwargs)\n\u001b[0;32m     66\u001b[0m \u001b[39mexcept\u001b[39;00m \u001b[39mException\u001b[39;00m \u001b[39mas\u001b[39;00m e:\n\u001b[0;32m     67\u001b[0m     filtered_tb \u001b[39m=\u001b[39m _process_traceback_frames(e\u001b[39m.\u001b[39m__traceback__)\n",
      "File \u001b[1;32mc:\\Users\\kurtp\\anaconda3\\lib\\site-packages\\keras\\engine\\training.py:1564\u001b[0m, in \u001b[0;36mModel.fit\u001b[1;34m(self, x, y, batch_size, epochs, verbose, callbacks, validation_split, validation_data, shuffle, class_weight, sample_weight, initial_epoch, steps_per_epoch, validation_steps, validation_batch_size, validation_freq, max_queue_size, workers, use_multiprocessing)\u001b[0m\n\u001b[0;32m   1556\u001b[0m \u001b[39mwith\u001b[39;00m tf\u001b[39m.\u001b[39mprofiler\u001b[39m.\u001b[39mexperimental\u001b[39m.\u001b[39mTrace(\n\u001b[0;32m   1557\u001b[0m     \u001b[39m\"\u001b[39m\u001b[39mtrain\u001b[39m\u001b[39m\"\u001b[39m,\n\u001b[0;32m   1558\u001b[0m     epoch_num\u001b[39m=\u001b[39mepoch,\n\u001b[1;32m   (...)\u001b[0m\n\u001b[0;32m   1561\u001b[0m     _r\u001b[39m=\u001b[39m\u001b[39m1\u001b[39m,\n\u001b[0;32m   1562\u001b[0m ):\n\u001b[0;32m   1563\u001b[0m     callbacks\u001b[39m.\u001b[39mon_train_batch_begin(step)\n\u001b[1;32m-> 1564\u001b[0m     tmp_logs \u001b[39m=\u001b[39m \u001b[39mself\u001b[39;49m\u001b[39m.\u001b[39;49mtrain_function(iterator)\n\u001b[0;32m   1565\u001b[0m     \u001b[39mif\u001b[39;00m data_handler\u001b[39m.\u001b[39mshould_sync:\n\u001b[0;32m   1566\u001b[0m         context\u001b[39m.\u001b[39masync_wait()\n",
      "File \u001b[1;32mc:\\Users\\kurtp\\anaconda3\\lib\\site-packages\\tensorflow\\python\\util\\traceback_utils.py:150\u001b[0m, in \u001b[0;36mfilter_traceback.<locals>.error_handler\u001b[1;34m(*args, **kwargs)\u001b[0m\n\u001b[0;32m    148\u001b[0m filtered_tb \u001b[39m=\u001b[39m \u001b[39mNone\u001b[39;00m\n\u001b[0;32m    149\u001b[0m \u001b[39mtry\u001b[39;00m:\n\u001b[1;32m--> 150\u001b[0m   \u001b[39mreturn\u001b[39;00m fn(\u001b[39m*\u001b[39margs, \u001b[39m*\u001b[39m\u001b[39m*\u001b[39mkwargs)\n\u001b[0;32m    151\u001b[0m \u001b[39mexcept\u001b[39;00m \u001b[39mException\u001b[39;00m \u001b[39mas\u001b[39;00m e:\n\u001b[0;32m    152\u001b[0m   filtered_tb \u001b[39m=\u001b[39m _process_traceback_frames(e\u001b[39m.\u001b[39m__traceback__)\n",
      "File \u001b[1;32mc:\\Users\\kurtp\\anaconda3\\lib\\site-packages\\tensorflow\\python\\eager\\def_function.py:915\u001b[0m, in \u001b[0;36mFunction.__call__\u001b[1;34m(self, *args, **kwds)\u001b[0m\n\u001b[0;32m    912\u001b[0m compiler \u001b[39m=\u001b[39m \u001b[39m\"\u001b[39m\u001b[39mxla\u001b[39m\u001b[39m\"\u001b[39m \u001b[39mif\u001b[39;00m \u001b[39mself\u001b[39m\u001b[39m.\u001b[39m_jit_compile \u001b[39melse\u001b[39;00m \u001b[39m\"\u001b[39m\u001b[39mnonXla\u001b[39m\u001b[39m\"\u001b[39m\n\u001b[0;32m    914\u001b[0m \u001b[39mwith\u001b[39;00m OptionalXlaContext(\u001b[39mself\u001b[39m\u001b[39m.\u001b[39m_jit_compile):\n\u001b[1;32m--> 915\u001b[0m   result \u001b[39m=\u001b[39m \u001b[39mself\u001b[39m\u001b[39m.\u001b[39m_call(\u001b[39m*\u001b[39margs, \u001b[39m*\u001b[39m\u001b[39m*\u001b[39mkwds)\n\u001b[0;32m    917\u001b[0m new_tracing_count \u001b[39m=\u001b[39m \u001b[39mself\u001b[39m\u001b[39m.\u001b[39mexperimental_get_tracing_count()\n\u001b[0;32m    918\u001b[0m without_tracing \u001b[39m=\u001b[39m (tracing_count \u001b[39m==\u001b[39m new_tracing_count)\n",
      "File \u001b[1;32mc:\\Users\\kurtp\\anaconda3\\lib\\site-packages\\tensorflow\\python\\eager\\def_function.py:947\u001b[0m, in \u001b[0;36mFunction._call\u001b[1;34m(self, *args, **kwds)\u001b[0m\n\u001b[0;32m    944\u001b[0m   \u001b[39mself\u001b[39m\u001b[39m.\u001b[39m_lock\u001b[39m.\u001b[39mrelease()\n\u001b[0;32m    945\u001b[0m   \u001b[39m# In this case we have created variables on the first call, so we run the\u001b[39;00m\n\u001b[0;32m    946\u001b[0m   \u001b[39m# defunned version which is guaranteed to never create variables.\u001b[39;00m\n\u001b[1;32m--> 947\u001b[0m   \u001b[39mreturn\u001b[39;00m \u001b[39mself\u001b[39m\u001b[39m.\u001b[39m_stateless_fn(\u001b[39m*\u001b[39margs, \u001b[39m*\u001b[39m\u001b[39m*\u001b[39mkwds)  \u001b[39m# pylint: disable=not-callable\u001b[39;00m\n\u001b[0;32m    948\u001b[0m \u001b[39melif\u001b[39;00m \u001b[39mself\u001b[39m\u001b[39m.\u001b[39m_stateful_fn \u001b[39mis\u001b[39;00m \u001b[39mnot\u001b[39;00m \u001b[39mNone\u001b[39;00m:\n\u001b[0;32m    949\u001b[0m   \u001b[39m# Release the lock early so that multiple threads can perform the call\u001b[39;00m\n\u001b[0;32m    950\u001b[0m   \u001b[39m# in parallel.\u001b[39;00m\n\u001b[0;32m    951\u001b[0m   \u001b[39mself\u001b[39m\u001b[39m.\u001b[39m_lock\u001b[39m.\u001b[39mrelease()\n",
      "File \u001b[1;32mc:\\Users\\kurtp\\anaconda3\\lib\\site-packages\\tensorflow\\python\\eager\\function.py:2496\u001b[0m, in \u001b[0;36mFunction.__call__\u001b[1;34m(self, *args, **kwargs)\u001b[0m\n\u001b[0;32m   2493\u001b[0m \u001b[39mwith\u001b[39;00m \u001b[39mself\u001b[39m\u001b[39m.\u001b[39m_lock:\n\u001b[0;32m   2494\u001b[0m   (graph_function,\n\u001b[0;32m   2495\u001b[0m    filtered_flat_args) \u001b[39m=\u001b[39m \u001b[39mself\u001b[39m\u001b[39m.\u001b[39m_maybe_define_function(args, kwargs)\n\u001b[1;32m-> 2496\u001b[0m \u001b[39mreturn\u001b[39;00m graph_function\u001b[39m.\u001b[39;49m_call_flat(\n\u001b[0;32m   2497\u001b[0m     filtered_flat_args, captured_inputs\u001b[39m=\u001b[39;49mgraph_function\u001b[39m.\u001b[39;49mcaptured_inputs)\n",
      "File \u001b[1;32mc:\\Users\\kurtp\\anaconda3\\lib\\site-packages\\tensorflow\\python\\eager\\function.py:1862\u001b[0m, in \u001b[0;36mConcreteFunction._call_flat\u001b[1;34m(self, args, captured_inputs, cancellation_manager)\u001b[0m\n\u001b[0;32m   1858\u001b[0m possible_gradient_type \u001b[39m=\u001b[39m gradients_util\u001b[39m.\u001b[39mPossibleTapeGradientTypes(args)\n\u001b[0;32m   1859\u001b[0m \u001b[39mif\u001b[39;00m (possible_gradient_type \u001b[39m==\u001b[39m gradients_util\u001b[39m.\u001b[39mPOSSIBLE_GRADIENT_TYPES_NONE\n\u001b[0;32m   1860\u001b[0m     \u001b[39mand\u001b[39;00m executing_eagerly):\n\u001b[0;32m   1861\u001b[0m   \u001b[39m# No tape is watching; skip to running the function.\u001b[39;00m\n\u001b[1;32m-> 1862\u001b[0m   \u001b[39mreturn\u001b[39;00m \u001b[39mself\u001b[39m\u001b[39m.\u001b[39m_build_call_outputs(\u001b[39mself\u001b[39;49m\u001b[39m.\u001b[39;49m_inference_function\u001b[39m.\u001b[39;49mcall(\n\u001b[0;32m   1863\u001b[0m       ctx, args, cancellation_manager\u001b[39m=\u001b[39;49mcancellation_manager))\n\u001b[0;32m   1864\u001b[0m forward_backward \u001b[39m=\u001b[39m \u001b[39mself\u001b[39m\u001b[39m.\u001b[39m_select_forward_and_backward_functions(\n\u001b[0;32m   1865\u001b[0m     args,\n\u001b[0;32m   1866\u001b[0m     possible_gradient_type,\n\u001b[0;32m   1867\u001b[0m     executing_eagerly)\n\u001b[0;32m   1868\u001b[0m forward_function, args_with_tangents \u001b[39m=\u001b[39m forward_backward\u001b[39m.\u001b[39mforward()\n",
      "File \u001b[1;32mc:\\Users\\kurtp\\anaconda3\\lib\\site-packages\\tensorflow\\python\\eager\\function.py:499\u001b[0m, in \u001b[0;36m_EagerDefinedFunction.call\u001b[1;34m(self, ctx, args, cancellation_manager)\u001b[0m\n\u001b[0;32m    497\u001b[0m \u001b[39mwith\u001b[39;00m _InterpolateFunctionError(\u001b[39mself\u001b[39m):\n\u001b[0;32m    498\u001b[0m   \u001b[39mif\u001b[39;00m cancellation_manager \u001b[39mis\u001b[39;00m \u001b[39mNone\u001b[39;00m:\n\u001b[1;32m--> 499\u001b[0m     outputs \u001b[39m=\u001b[39m execute\u001b[39m.\u001b[39;49mexecute(\n\u001b[0;32m    500\u001b[0m         \u001b[39mstr\u001b[39;49m(\u001b[39mself\u001b[39;49m\u001b[39m.\u001b[39;49msignature\u001b[39m.\u001b[39;49mname),\n\u001b[0;32m    501\u001b[0m         num_outputs\u001b[39m=\u001b[39;49m\u001b[39mself\u001b[39;49m\u001b[39m.\u001b[39;49m_num_outputs,\n\u001b[0;32m    502\u001b[0m         inputs\u001b[39m=\u001b[39;49margs,\n\u001b[0;32m    503\u001b[0m         attrs\u001b[39m=\u001b[39;49mattrs,\n\u001b[0;32m    504\u001b[0m         ctx\u001b[39m=\u001b[39;49mctx)\n\u001b[0;32m    505\u001b[0m   \u001b[39melse\u001b[39;00m:\n\u001b[0;32m    506\u001b[0m     outputs \u001b[39m=\u001b[39m execute\u001b[39m.\u001b[39mexecute_with_cancellation(\n\u001b[0;32m    507\u001b[0m         \u001b[39mstr\u001b[39m(\u001b[39mself\u001b[39m\u001b[39m.\u001b[39msignature\u001b[39m.\u001b[39mname),\n\u001b[0;32m    508\u001b[0m         num_outputs\u001b[39m=\u001b[39m\u001b[39mself\u001b[39m\u001b[39m.\u001b[39m_num_outputs,\n\u001b[1;32m   (...)\u001b[0m\n\u001b[0;32m    511\u001b[0m         ctx\u001b[39m=\u001b[39mctx,\n\u001b[0;32m    512\u001b[0m         cancellation_manager\u001b[39m=\u001b[39mcancellation_manager)\n",
      "File \u001b[1;32mc:\\Users\\kurtp\\anaconda3\\lib\\site-packages\\tensorflow\\python\\eager\\execute.py:54\u001b[0m, in \u001b[0;36mquick_execute\u001b[1;34m(op_name, num_outputs, inputs, attrs, ctx, name)\u001b[0m\n\u001b[0;32m     52\u001b[0m \u001b[39mtry\u001b[39;00m:\n\u001b[0;32m     53\u001b[0m   ctx\u001b[39m.\u001b[39mensure_initialized()\n\u001b[1;32m---> 54\u001b[0m   tensors \u001b[39m=\u001b[39m pywrap_tfe\u001b[39m.\u001b[39;49mTFE_Py_Execute(ctx\u001b[39m.\u001b[39;49m_handle, device_name, op_name,\n\u001b[0;32m     55\u001b[0m                                       inputs, attrs, num_outputs)\n\u001b[0;32m     56\u001b[0m \u001b[39mexcept\u001b[39;00m core\u001b[39m.\u001b[39m_NotOkStatusException \u001b[39mas\u001b[39;00m e:\n\u001b[0;32m     57\u001b[0m   \u001b[39mif\u001b[39;00m name \u001b[39mis\u001b[39;00m \u001b[39mnot\u001b[39;00m \u001b[39mNone\u001b[39;00m:\n",
      "\u001b[1;31mKeyboardInterrupt\u001b[0m: "
     ]
    }
   ],
   "source": [
    "def conv_trop_then_relu_3layer_model(x_train, \n",
    "                       y_train, \n",
    "                       num_epochs = 10,\n",
    "                       batch_size = 64, \n",
    "                       verbose = 1, \n",
    "                       initializer_trop = BimodalNormalInitializer(stddev=1,high=5.5, low=-4.5),\n",
    "                       initializer_relu = initializers.RandomNormal(mean=0.5, stddev=1., seed=0),\n",
    "                       final_layer_activation = 'softmax', \n",
    "                       training_loss = 'categorical_crossentropy',\n",
    "                       lam = 0):\n",
    "    start_time = time.time() \n",
    "    #in_channels = x_train.shape[-1]\n",
    "    model = Sequential([Flatten(),\n",
    "                        TropEmbedMaxMin(1024, initializer_w = initializer_trop, lam=lam),\n",
    "                        Reshape((1024, 1)),\n",
    "                        Conv1D(32, 3, activation='relu'),\n",
    "                        MaxPooling1D(2),                            \n",
    "                        Conv1D(32, 3, activation='relu'),\n",
    "                        MaxPooling1D(2),\n",
    "                        Conv1D(32, 3, activation='relu'),\n",
    "                        Flatten(),\n",
    "                        Dense(64, activation='relu', kernel_initializer = initializer_relu),\n",
    "                        Dense(10, activation=final_layer_activation, kernel_initializer = initializer_relu)])\n",
    "    model.compile(optimizer='adam', loss=training_loss, metrics=['accuracy'])\n",
    "    model.fit(x_train, y_train, epochs=num_epochs,batch_size=batch_size, verbose=verbose)\n",
    "    end_time = time.time()\n",
    "    elapsed_time = end_time - start_time\n",
    "    print(f\"Tropical model built. Elapsed time: {elapsed_time:.2f} seconds | {elapsed_time/60:.2f} minutes.\")\n",
    "    \n",
    "    #model.build(input_shape=(32, 28, 28, 1))\n",
    "    #model.summary()\n",
    "    return model\n",
    "\n",
    "conv_trop_then_relu_3layer_model(x_train=x_train, y_train=y_train, lam = 0.01)"
   ]
  },
  {
   "cell_type": "code",
   "execution_count": null,
   "metadata": {},
   "outputs": [],
   "source": [
    "def conv_trop_then_relu_3layer_model(x_train, \n",
    "                       y_train, \n",
    "                       num_epochs = 10,\n",
    "                       batch_size = 64, \n",
    "                       verbose = 1, \n",
    "                       initializer_trop = BimodalNormalInitializer(stddev=1,high=5.5, low=-4.5),\n",
    "                       initializer_relu = initializers.RandomNormal(mean=0.5, stddev=1., seed=0),\n",
    "                       final_layer_activation = 'softmax', \n",
    "                       training_loss = 'categorical_crossentropy',\n",
    "                       lam = 0):\n",
    "    start_time = time.time() \n",
    "    #in_channels = x_train.shape[-1]\n",
    "    model = Sequential([Flatten(),\n",
    "                        TropEmbedMaxMin(1024, initializer_w = initializer_trop, lam=lam),\n",
    "                        Reshape((32, 32, 1)),\n",
    "                        Conv2D(32, (3,3), activation='relu'),\n",
    "                        MaxPooling2D((2,2)),                            \n",
    "                        Conv2D(32, (3,3), activation='relu'),\n",
    "                        MaxPooling1D((2,2)),\n",
    "                        Conv2D(32,(3,3), activation='relu'),\n",
    "                        Flatten(),\n",
    "                        Dense(64, activation='relu', kernel_initializer = initializer_relu),\n",
    "                        Dense(10, activation=final_layer_activation, kernel_initializer = initializer_relu)])\n",
    "    model.compile(optimizer='adam', loss=training_loss, metrics=['accuracy'])\n",
    "    model.fit(x_train, y_train, epochs=num_epochs,batch_size=batch_size, verbose=verbose)\n",
    "    end_time = time.time()\n",
    "    elapsed_time = end_time - start_time\n",
    "    print(f\"Tropical model built. Elapsed time: {elapsed_time:.2f} seconds | {elapsed_time/60:.2f} minutes.\")\n",
    "    #model.build(input_shape=(32, 28, 28, 1))\n",
    "    #model.summary()\n",
    "    return model\n",
    "\n",
    "conv_trop_then_relu_3layer_model(x_train=x_train, y_train=y_train, lam = 0.01)"
   ]
  },
  {
   "cell_type": "code",
   "execution_count": 5,
   "metadata": {},
   "outputs": [
    {
     "name": "stdout",
     "output_type": "stream",
     "text": [
      "Epoch 1/10\n",
      "1145/1145 [==============================] - 114s 97ms/step - loss: 1.9064 - accuracy: 0.3359\n",
      "Epoch 2/10\n",
      " 472/1145 [===========>..................] - ETA: 1:25 - loss: 1.5919 - accuracy: 0.4622"
     ]
    },
    {
     "ename": "KeyboardInterrupt",
     "evalue": "",
     "output_type": "error",
     "traceback": [
      "\u001b[1;31m---------------------------------------------------------------------------\u001b[0m",
      "\u001b[1;31mKeyboardInterrupt\u001b[0m                         Traceback (most recent call last)",
      "\u001b[1;32mc:\\Users\\kurtp\\OneDrive - Naval Postgraduate School\\Desktop\\NPS School Work\\Thesis\\TropicalNN\\model_tests.ipynb Cell 7\u001b[0m line \u001b[0;36m3\n\u001b[0;32m     <a href='vscode-notebook-cell:/c%3A/Users/kurtp/OneDrive%20-%20Naval%20Postgraduate%20School/Desktop/NPS%20School%20Work/Thesis/TropicalNN/model_tests.ipynb#X10sZmlsZQ%3D%3D?line=25'>26</a>\u001b[0m     \u001b[39m#model.build(input_shape=(32, 28, 28, 1))\u001b[39;00m\n\u001b[0;32m     <a href='vscode-notebook-cell:/c%3A/Users/kurtp/OneDrive%20-%20Naval%20Postgraduate%20School/Desktop/NPS%20School%20Work/Thesis/TropicalNN/model_tests.ipynb#X10sZmlsZQ%3D%3D?line=26'>27</a>\u001b[0m     \u001b[39m#model.summary()\u001b[39;00m\n\u001b[0;32m     <a href='vscode-notebook-cell:/c%3A/Users/kurtp/OneDrive%20-%20Naval%20Postgraduate%20School/Desktop/NPS%20School%20Work/Thesis/TropicalNN/model_tests.ipynb#X10sZmlsZQ%3D%3D?line=27'>28</a>\u001b[0m     \u001b[39mreturn\u001b[39;00m model\n\u001b[1;32m---> <a href='vscode-notebook-cell:/c%3A/Users/kurtp/OneDrive%20-%20Naval%20Postgraduate%20School/Desktop/NPS%20School%20Work/Thesis/TropicalNN/model_tests.ipynb#X10sZmlsZQ%3D%3D?line=29'>30</a>\u001b[0m trop_model \u001b[39m=\u001b[39m conv_trop_then_relu_3layer_model(x_train\u001b[39m=\u001b[39;49mx_train, y_train\u001b[39m=\u001b[39;49my_train)\n",
      "\u001b[1;32mc:\\Users\\kurtp\\OneDrive - Naval Postgraduate School\\Desktop\\NPS School Work\\Thesis\\TropicalNN\\model_tests.ipynb Cell 7\u001b[0m line \u001b[0;36m2\n\u001b[0;32m     <a href='vscode-notebook-cell:/c%3A/Users/kurtp/OneDrive%20-%20Naval%20Postgraduate%20School/Desktop/NPS%20School%20Work/Thesis/TropicalNN/model_tests.ipynb#X10sZmlsZQ%3D%3D?line=12'>13</a>\u001b[0m model \u001b[39m=\u001b[39m Sequential([TropConv2D(\u001b[39m32\u001b[39m, window_size \u001b[39m=\u001b[39m [\u001b[39m1\u001b[39m, \u001b[39m1\u001b[39m, \u001b[39m1\u001b[39m, \u001b[39m1\u001b[39m], initializer_w \u001b[39m=\u001b[39m initializer_trop, lam\u001b[39m=\u001b[39mlam),\n\u001b[0;32m     <a href='vscode-notebook-cell:/c%3A/Users/kurtp/OneDrive%20-%20Naval%20Postgraduate%20School/Desktop/NPS%20School%20Work/Thesis/TropicalNN/model_tests.ipynb#X10sZmlsZQ%3D%3D?line=13'>14</a>\u001b[0m                     MaxPooling2D((\u001b[39m2\u001b[39m,\u001b[39m2\u001b[39m)),\n\u001b[0;32m     <a href='vscode-notebook-cell:/c%3A/Users/kurtp/OneDrive%20-%20Naval%20Postgraduate%20School/Desktop/NPS%20School%20Work/Thesis/TropicalNN/model_tests.ipynb#X10sZmlsZQ%3D%3D?line=14'>15</a>\u001b[0m                     Conv2D(\u001b[39m32\u001b[39m, (\u001b[39m3\u001b[39m,\u001b[39m3\u001b[39m), activation\u001b[39m=\u001b[39m\u001b[39m'\u001b[39m\u001b[39mrelu\u001b[39m\u001b[39m'\u001b[39m),\n\u001b[1;32m   (...)\u001b[0m\n\u001b[0;32m     <a href='vscode-notebook-cell:/c%3A/Users/kurtp/OneDrive%20-%20Naval%20Postgraduate%20School/Desktop/NPS%20School%20Work/Thesis/TropicalNN/model_tests.ipynb#X10sZmlsZQ%3D%3D?line=18'>19</a>\u001b[0m                     Dense(\u001b[39m64\u001b[39m, activation\u001b[39m=\u001b[39m\u001b[39m'\u001b[39m\u001b[39mrelu\u001b[39m\u001b[39m'\u001b[39m),\n\u001b[0;32m     <a href='vscode-notebook-cell:/c%3A/Users/kurtp/OneDrive%20-%20Naval%20Postgraduate%20School/Desktop/NPS%20School%20Work/Thesis/TropicalNN/model_tests.ipynb#X10sZmlsZQ%3D%3D?line=19'>20</a>\u001b[0m                     Dense(\u001b[39m10\u001b[39m, activation\u001b[39m=\u001b[39mfinal_layer_activation, kernel_initializer \u001b[39m=\u001b[39m initializer_relu)])\n\u001b[0;32m     <a href='vscode-notebook-cell:/c%3A/Users/kurtp/OneDrive%20-%20Naval%20Postgraduate%20School/Desktop/NPS%20School%20Work/Thesis/TropicalNN/model_tests.ipynb#X10sZmlsZQ%3D%3D?line=20'>21</a>\u001b[0m model\u001b[39m.\u001b[39mcompile(optimizer\u001b[39m=\u001b[39m\u001b[39m'\u001b[39m\u001b[39madam\u001b[39m\u001b[39m'\u001b[39m, loss\u001b[39m=\u001b[39mtraining_loss, metrics\u001b[39m=\u001b[39m[\u001b[39m'\u001b[39m\u001b[39maccuracy\u001b[39m\u001b[39m'\u001b[39m])\n\u001b[1;32m---> <a href='vscode-notebook-cell:/c%3A/Users/kurtp/OneDrive%20-%20Naval%20Postgraduate%20School/Desktop/NPS%20School%20Work/Thesis/TropicalNN/model_tests.ipynb#X10sZmlsZQ%3D%3D?line=21'>22</a>\u001b[0m model\u001b[39m.\u001b[39;49mfit(x_train, y_train, epochs\u001b[39m=\u001b[39;49mnum_epochs,batch_size\u001b[39m=\u001b[39;49mbatch_size, verbose\u001b[39m=\u001b[39;49mverbose)\n\u001b[0;32m     <a href='vscode-notebook-cell:/c%3A/Users/kurtp/OneDrive%20-%20Naval%20Postgraduate%20School/Desktop/NPS%20School%20Work/Thesis/TropicalNN/model_tests.ipynb#X10sZmlsZQ%3D%3D?line=22'>23</a>\u001b[0m end_time \u001b[39m=\u001b[39m time\u001b[39m.\u001b[39mtime()\n\u001b[0;32m     <a href='vscode-notebook-cell:/c%3A/Users/kurtp/OneDrive%20-%20Naval%20Postgraduate%20School/Desktop/NPS%20School%20Work/Thesis/TropicalNN/model_tests.ipynb#X10sZmlsZQ%3D%3D?line=23'>24</a>\u001b[0m elapsed_time \u001b[39m=\u001b[39m end_time \u001b[39m-\u001b[39m start_time\n",
      "File \u001b[1;32mc:\\Users\\kurtp\\anaconda3\\lib\\site-packages\\keras\\utils\\traceback_utils.py:65\u001b[0m, in \u001b[0;36mfilter_traceback.<locals>.error_handler\u001b[1;34m(*args, **kwargs)\u001b[0m\n\u001b[0;32m     63\u001b[0m filtered_tb \u001b[39m=\u001b[39m \u001b[39mNone\u001b[39;00m\n\u001b[0;32m     64\u001b[0m \u001b[39mtry\u001b[39;00m:\n\u001b[1;32m---> 65\u001b[0m     \u001b[39mreturn\u001b[39;00m fn(\u001b[39m*\u001b[39margs, \u001b[39m*\u001b[39m\u001b[39m*\u001b[39mkwargs)\n\u001b[0;32m     66\u001b[0m \u001b[39mexcept\u001b[39;00m \u001b[39mException\u001b[39;00m \u001b[39mas\u001b[39;00m e:\n\u001b[0;32m     67\u001b[0m     filtered_tb \u001b[39m=\u001b[39m _process_traceback_frames(e\u001b[39m.\u001b[39m__traceback__)\n",
      "File \u001b[1;32mc:\\Users\\kurtp\\anaconda3\\lib\\site-packages\\keras\\engine\\training.py:1564\u001b[0m, in \u001b[0;36mModel.fit\u001b[1;34m(self, x, y, batch_size, epochs, verbose, callbacks, validation_split, validation_data, shuffle, class_weight, sample_weight, initial_epoch, steps_per_epoch, validation_steps, validation_batch_size, validation_freq, max_queue_size, workers, use_multiprocessing)\u001b[0m\n\u001b[0;32m   1556\u001b[0m \u001b[39mwith\u001b[39;00m tf\u001b[39m.\u001b[39mprofiler\u001b[39m.\u001b[39mexperimental\u001b[39m.\u001b[39mTrace(\n\u001b[0;32m   1557\u001b[0m     \u001b[39m\"\u001b[39m\u001b[39mtrain\u001b[39m\u001b[39m\"\u001b[39m,\n\u001b[0;32m   1558\u001b[0m     epoch_num\u001b[39m=\u001b[39mepoch,\n\u001b[1;32m   (...)\u001b[0m\n\u001b[0;32m   1561\u001b[0m     _r\u001b[39m=\u001b[39m\u001b[39m1\u001b[39m,\n\u001b[0;32m   1562\u001b[0m ):\n\u001b[0;32m   1563\u001b[0m     callbacks\u001b[39m.\u001b[39mon_train_batch_begin(step)\n\u001b[1;32m-> 1564\u001b[0m     tmp_logs \u001b[39m=\u001b[39m \u001b[39mself\u001b[39;49m\u001b[39m.\u001b[39;49mtrain_function(iterator)\n\u001b[0;32m   1565\u001b[0m     \u001b[39mif\u001b[39;00m data_handler\u001b[39m.\u001b[39mshould_sync:\n\u001b[0;32m   1566\u001b[0m         context\u001b[39m.\u001b[39masync_wait()\n",
      "File \u001b[1;32mc:\\Users\\kurtp\\anaconda3\\lib\\site-packages\\tensorflow\\python\\util\\traceback_utils.py:150\u001b[0m, in \u001b[0;36mfilter_traceback.<locals>.error_handler\u001b[1;34m(*args, **kwargs)\u001b[0m\n\u001b[0;32m    148\u001b[0m filtered_tb \u001b[39m=\u001b[39m \u001b[39mNone\u001b[39;00m\n\u001b[0;32m    149\u001b[0m \u001b[39mtry\u001b[39;00m:\n\u001b[1;32m--> 150\u001b[0m   \u001b[39mreturn\u001b[39;00m fn(\u001b[39m*\u001b[39margs, \u001b[39m*\u001b[39m\u001b[39m*\u001b[39mkwargs)\n\u001b[0;32m    151\u001b[0m \u001b[39mexcept\u001b[39;00m \u001b[39mException\u001b[39;00m \u001b[39mas\u001b[39;00m e:\n\u001b[0;32m    152\u001b[0m   filtered_tb \u001b[39m=\u001b[39m _process_traceback_frames(e\u001b[39m.\u001b[39m__traceback__)\n",
      "File \u001b[1;32mc:\\Users\\kurtp\\anaconda3\\lib\\site-packages\\tensorflow\\python\\eager\\def_function.py:915\u001b[0m, in \u001b[0;36mFunction.__call__\u001b[1;34m(self, *args, **kwds)\u001b[0m\n\u001b[0;32m    912\u001b[0m compiler \u001b[39m=\u001b[39m \u001b[39m\"\u001b[39m\u001b[39mxla\u001b[39m\u001b[39m\"\u001b[39m \u001b[39mif\u001b[39;00m \u001b[39mself\u001b[39m\u001b[39m.\u001b[39m_jit_compile \u001b[39melse\u001b[39;00m \u001b[39m\"\u001b[39m\u001b[39mnonXla\u001b[39m\u001b[39m\"\u001b[39m\n\u001b[0;32m    914\u001b[0m \u001b[39mwith\u001b[39;00m OptionalXlaContext(\u001b[39mself\u001b[39m\u001b[39m.\u001b[39m_jit_compile):\n\u001b[1;32m--> 915\u001b[0m   result \u001b[39m=\u001b[39m \u001b[39mself\u001b[39m\u001b[39m.\u001b[39m_call(\u001b[39m*\u001b[39margs, \u001b[39m*\u001b[39m\u001b[39m*\u001b[39mkwds)\n\u001b[0;32m    917\u001b[0m new_tracing_count \u001b[39m=\u001b[39m \u001b[39mself\u001b[39m\u001b[39m.\u001b[39mexperimental_get_tracing_count()\n\u001b[0;32m    918\u001b[0m without_tracing \u001b[39m=\u001b[39m (tracing_count \u001b[39m==\u001b[39m new_tracing_count)\n",
      "File \u001b[1;32mc:\\Users\\kurtp\\anaconda3\\lib\\site-packages\\tensorflow\\python\\eager\\def_function.py:947\u001b[0m, in \u001b[0;36mFunction._call\u001b[1;34m(self, *args, **kwds)\u001b[0m\n\u001b[0;32m    944\u001b[0m   \u001b[39mself\u001b[39m\u001b[39m.\u001b[39m_lock\u001b[39m.\u001b[39mrelease()\n\u001b[0;32m    945\u001b[0m   \u001b[39m# In this case we have created variables on the first call, so we run the\u001b[39;00m\n\u001b[0;32m    946\u001b[0m   \u001b[39m# defunned version which is guaranteed to never create variables.\u001b[39;00m\n\u001b[1;32m--> 947\u001b[0m   \u001b[39mreturn\u001b[39;00m \u001b[39mself\u001b[39m\u001b[39m.\u001b[39m_stateless_fn(\u001b[39m*\u001b[39margs, \u001b[39m*\u001b[39m\u001b[39m*\u001b[39mkwds)  \u001b[39m# pylint: disable=not-callable\u001b[39;00m\n\u001b[0;32m    948\u001b[0m \u001b[39melif\u001b[39;00m \u001b[39mself\u001b[39m\u001b[39m.\u001b[39m_stateful_fn \u001b[39mis\u001b[39;00m \u001b[39mnot\u001b[39;00m \u001b[39mNone\u001b[39;00m:\n\u001b[0;32m    949\u001b[0m   \u001b[39m# Release the lock early so that multiple threads can perform the call\u001b[39;00m\n\u001b[0;32m    950\u001b[0m   \u001b[39m# in parallel.\u001b[39;00m\n\u001b[0;32m    951\u001b[0m   \u001b[39mself\u001b[39m\u001b[39m.\u001b[39m_lock\u001b[39m.\u001b[39mrelease()\n",
      "File \u001b[1;32mc:\\Users\\kurtp\\anaconda3\\lib\\site-packages\\tensorflow\\python\\eager\\function.py:2496\u001b[0m, in \u001b[0;36mFunction.__call__\u001b[1;34m(self, *args, **kwargs)\u001b[0m\n\u001b[0;32m   2493\u001b[0m \u001b[39mwith\u001b[39;00m \u001b[39mself\u001b[39m\u001b[39m.\u001b[39m_lock:\n\u001b[0;32m   2494\u001b[0m   (graph_function,\n\u001b[0;32m   2495\u001b[0m    filtered_flat_args) \u001b[39m=\u001b[39m \u001b[39mself\u001b[39m\u001b[39m.\u001b[39m_maybe_define_function(args, kwargs)\n\u001b[1;32m-> 2496\u001b[0m \u001b[39mreturn\u001b[39;00m graph_function\u001b[39m.\u001b[39;49m_call_flat(\n\u001b[0;32m   2497\u001b[0m     filtered_flat_args, captured_inputs\u001b[39m=\u001b[39;49mgraph_function\u001b[39m.\u001b[39;49mcaptured_inputs)\n",
      "File \u001b[1;32mc:\\Users\\kurtp\\anaconda3\\lib\\site-packages\\tensorflow\\python\\eager\\function.py:1862\u001b[0m, in \u001b[0;36mConcreteFunction._call_flat\u001b[1;34m(self, args, captured_inputs, cancellation_manager)\u001b[0m\n\u001b[0;32m   1858\u001b[0m possible_gradient_type \u001b[39m=\u001b[39m gradients_util\u001b[39m.\u001b[39mPossibleTapeGradientTypes(args)\n\u001b[0;32m   1859\u001b[0m \u001b[39mif\u001b[39;00m (possible_gradient_type \u001b[39m==\u001b[39m gradients_util\u001b[39m.\u001b[39mPOSSIBLE_GRADIENT_TYPES_NONE\n\u001b[0;32m   1860\u001b[0m     \u001b[39mand\u001b[39;00m executing_eagerly):\n\u001b[0;32m   1861\u001b[0m   \u001b[39m# No tape is watching; skip to running the function.\u001b[39;00m\n\u001b[1;32m-> 1862\u001b[0m   \u001b[39mreturn\u001b[39;00m \u001b[39mself\u001b[39m\u001b[39m.\u001b[39m_build_call_outputs(\u001b[39mself\u001b[39;49m\u001b[39m.\u001b[39;49m_inference_function\u001b[39m.\u001b[39;49mcall(\n\u001b[0;32m   1863\u001b[0m       ctx, args, cancellation_manager\u001b[39m=\u001b[39;49mcancellation_manager))\n\u001b[0;32m   1864\u001b[0m forward_backward \u001b[39m=\u001b[39m \u001b[39mself\u001b[39m\u001b[39m.\u001b[39m_select_forward_and_backward_functions(\n\u001b[0;32m   1865\u001b[0m     args,\n\u001b[0;32m   1866\u001b[0m     possible_gradient_type,\n\u001b[0;32m   1867\u001b[0m     executing_eagerly)\n\u001b[0;32m   1868\u001b[0m forward_function, args_with_tangents \u001b[39m=\u001b[39m forward_backward\u001b[39m.\u001b[39mforward()\n",
      "File \u001b[1;32mc:\\Users\\kurtp\\anaconda3\\lib\\site-packages\\tensorflow\\python\\eager\\function.py:499\u001b[0m, in \u001b[0;36m_EagerDefinedFunction.call\u001b[1;34m(self, ctx, args, cancellation_manager)\u001b[0m\n\u001b[0;32m    497\u001b[0m \u001b[39mwith\u001b[39;00m _InterpolateFunctionError(\u001b[39mself\u001b[39m):\n\u001b[0;32m    498\u001b[0m   \u001b[39mif\u001b[39;00m cancellation_manager \u001b[39mis\u001b[39;00m \u001b[39mNone\u001b[39;00m:\n\u001b[1;32m--> 499\u001b[0m     outputs \u001b[39m=\u001b[39m execute\u001b[39m.\u001b[39;49mexecute(\n\u001b[0;32m    500\u001b[0m         \u001b[39mstr\u001b[39;49m(\u001b[39mself\u001b[39;49m\u001b[39m.\u001b[39;49msignature\u001b[39m.\u001b[39;49mname),\n\u001b[0;32m    501\u001b[0m         num_outputs\u001b[39m=\u001b[39;49m\u001b[39mself\u001b[39;49m\u001b[39m.\u001b[39;49m_num_outputs,\n\u001b[0;32m    502\u001b[0m         inputs\u001b[39m=\u001b[39;49margs,\n\u001b[0;32m    503\u001b[0m         attrs\u001b[39m=\u001b[39;49mattrs,\n\u001b[0;32m    504\u001b[0m         ctx\u001b[39m=\u001b[39;49mctx)\n\u001b[0;32m    505\u001b[0m   \u001b[39melse\u001b[39;00m:\n\u001b[0;32m    506\u001b[0m     outputs \u001b[39m=\u001b[39m execute\u001b[39m.\u001b[39mexecute_with_cancellation(\n\u001b[0;32m    507\u001b[0m         \u001b[39mstr\u001b[39m(\u001b[39mself\u001b[39m\u001b[39m.\u001b[39msignature\u001b[39m.\u001b[39mname),\n\u001b[0;32m    508\u001b[0m         num_outputs\u001b[39m=\u001b[39m\u001b[39mself\u001b[39m\u001b[39m.\u001b[39m_num_outputs,\n\u001b[1;32m   (...)\u001b[0m\n\u001b[0;32m    511\u001b[0m         ctx\u001b[39m=\u001b[39mctx,\n\u001b[0;32m    512\u001b[0m         cancellation_manager\u001b[39m=\u001b[39mcancellation_manager)\n",
      "File \u001b[1;32mc:\\Users\\kurtp\\anaconda3\\lib\\site-packages\\tensorflow\\python\\eager\\execute.py:54\u001b[0m, in \u001b[0;36mquick_execute\u001b[1;34m(op_name, num_outputs, inputs, attrs, ctx, name)\u001b[0m\n\u001b[0;32m     52\u001b[0m \u001b[39mtry\u001b[39;00m:\n\u001b[0;32m     53\u001b[0m   ctx\u001b[39m.\u001b[39mensure_initialized()\n\u001b[1;32m---> 54\u001b[0m   tensors \u001b[39m=\u001b[39m pywrap_tfe\u001b[39m.\u001b[39;49mTFE_Py_Execute(ctx\u001b[39m.\u001b[39;49m_handle, device_name, op_name,\n\u001b[0;32m     55\u001b[0m                                       inputs, attrs, num_outputs)\n\u001b[0;32m     56\u001b[0m \u001b[39mexcept\u001b[39;00m core\u001b[39m.\u001b[39m_NotOkStatusException \u001b[39mas\u001b[39;00m e:\n\u001b[0;32m     57\u001b[0m   \u001b[39mif\u001b[39;00m name \u001b[39mis\u001b[39;00m \u001b[39mnot\u001b[39;00m \u001b[39mNone\u001b[39;00m:\n",
      "\u001b[1;31mKeyboardInterrupt\u001b[0m: "
     ]
    }
   ],
   "source": [
    "def conv_trop_then_relu_3layer_model(x_train, \n",
    "                       y_train, \n",
    "                       num_epochs = 10,\n",
    "                       batch_size = 64, \n",
    "                       verbose = 1, \n",
    "                       initializer_trop = initializers.random_normal,\n",
    "                       initializer_relu = initializers.RandomNormal(mean=0.5, stddev=1., seed=0),\n",
    "                       final_layer_activation = 'softmax', \n",
    "                       training_loss = 'categorical_crossentropy',\n",
    "                       lam = 0.01):\n",
    "    start_time = time.time() \n",
    "    #in_channels = x_train.shape[-1]\n",
    "    model = Sequential([TropConv2D(32, window_size = [1, 1, 1, 1], initializer_w = initializer_trop, lam=lam),\n",
    "                        MaxPooling2D((2,2)),\n",
    "                        Conv2D(32, (3,3), activation='relu'),\n",
    "                        MaxPooling2D((2,2)),\n",
    "                        Conv2D(32, (3,3), activation='relu'),\n",
    "                        Flatten(),\n",
    "                        Dense(64, activation='relu'),\n",
    "                        Dense(10, activation=final_layer_activation, kernel_initializer = initializer_relu)])\n",
    "    model.compile(optimizer='adam', loss=training_loss, metrics=['accuracy'])\n",
    "    model.fit(x_train, y_train, epochs=num_epochs,batch_size=batch_size, verbose=verbose)\n",
    "    end_time = time.time()\n",
    "    elapsed_time = end_time - start_time\n",
    "    print(f\"Tropical model built. Elapsed time: {elapsed_time:.2f} seconds | {elapsed_time/60:.2f} minutes.\")\n",
    "    #model.build(input_shape=(32, 28, 28, 1))\n",
    "    #model.summary()\n",
    "    return model\n",
    "\n",
    "trop_model = conv_trop_then_relu_3layer_model(x_train=x_train, y_train=y_train)"
   ]
  },
  {
   "cell_type": "code",
   "execution_count": 21,
   "metadata": {},
   "outputs": [
    {
     "name": "stdout",
     "output_type": "stream",
     "text": [
      "Epoch 1/10\n",
      "938/938 [==============================] - 292s 306ms/step - loss: 9.5132 - accuracy: 0.1868\n",
      "Epoch 2/10\n",
      "938/938 [==============================] - 428s 456ms/step - loss: 4.8339 - accuracy: 0.3557\n",
      "Epoch 3/10\n",
      "938/938 [==============================] - 356s 380ms/step - loss: 4.6360 - accuracy: 0.4139\n",
      "Epoch 4/10\n",
      "408/938 [============>.................] - ETA: 2:41 - loss: 4.5347 - accuracy: 0.4418"
     ]
    },
    {
     "ename": "KeyboardInterrupt",
     "evalue": "",
     "output_type": "error",
     "traceback": [
      "\u001b[1;31m---------------------------------------------------------------------------\u001b[0m",
      "\u001b[1;31mKeyboardInterrupt\u001b[0m                         Traceback (most recent call last)",
      "\u001b[1;32mc:\\Users\\kurtp\\OneDrive - Naval Postgraduate School\\Desktop\\NPS School Work\\Thesis\\TropicalNN\\initializer_tests.ipynb Cell 7\u001b[0m line \u001b[0;36m2\n\u001b[0;32m     <a href='vscode-notebook-cell:/c%3A/Users/kurtp/OneDrive%20-%20Naval%20Postgraduate%20School/Desktop/NPS%20School%20Work/Thesis/TropicalNN/initializer_tests.ipynb#X14sZmlsZQ%3D%3D?line=21'>22</a>\u001b[0m     \u001b[39m#model.build(input_shape=(32, 28, 28, 1))\u001b[39;00m\n\u001b[0;32m     <a href='vscode-notebook-cell:/c%3A/Users/kurtp/OneDrive%20-%20Naval%20Postgraduate%20School/Desktop/NPS%20School%20Work/Thesis/TropicalNN/initializer_tests.ipynb#X14sZmlsZQ%3D%3D?line=22'>23</a>\u001b[0m     \u001b[39m#model.summary()\u001b[39;00m\n\u001b[0;32m     <a href='vscode-notebook-cell:/c%3A/Users/kurtp/OneDrive%20-%20Naval%20Postgraduate%20School/Desktop/NPS%20School%20Work/Thesis/TropicalNN/initializer_tests.ipynb#X14sZmlsZQ%3D%3D?line=23'>24</a>\u001b[0m     \u001b[39mreturn\u001b[39;00m model\n\u001b[1;32m---> <a href='vscode-notebook-cell:/c%3A/Users/kurtp/OneDrive%20-%20Naval%20Postgraduate%20School/Desktop/NPS%20School%20Work/Thesis/TropicalNN/initializer_tests.ipynb#X14sZmlsZQ%3D%3D?line=25'>26</a>\u001b[0m troppy_model \u001b[39m=\u001b[39m conv_trop_then_relu_3layer_model(x_train\u001b[39m=\u001b[39;49mx_train, y_train\u001b[39m=\u001b[39;49my_train, lam \u001b[39m=\u001b[39;49m \u001b[39m0.01\u001b[39;49m)\n",
      "\u001b[1;32mc:\\Users\\kurtp\\OneDrive - Naval Postgraduate School\\Desktop\\NPS School Work\\Thesis\\TropicalNN\\initializer_tests.ipynb Cell 7\u001b[0m line \u001b[0;36m1\n\u001b[0;32m     <a href='vscode-notebook-cell:/c%3A/Users/kurtp/OneDrive%20-%20Naval%20Postgraduate%20School/Desktop/NPS%20School%20Work/Thesis/TropicalNN/initializer_tests.ipynb#X14sZmlsZQ%3D%3D?line=12'>13</a>\u001b[0m model \u001b[39m=\u001b[39m Sequential([TropConv2D(\u001b[39m100\u001b[39m, initializer_w \u001b[39m=\u001b[39m initializer_trop, lam\u001b[39m=\u001b[39mlam),\n\u001b[0;32m     <a href='vscode-notebook-cell:/c%3A/Users/kurtp/OneDrive%20-%20Naval%20Postgraduate%20School/Desktop/NPS%20School%20Work/Thesis/TropicalNN/initializer_tests.ipynb#X14sZmlsZQ%3D%3D?line=13'>14</a>\u001b[0m                     Flatten(),\n\u001b[0;32m     <a href='vscode-notebook-cell:/c%3A/Users/kurtp/OneDrive%20-%20Naval%20Postgraduate%20School/Desktop/NPS%20School%20Work/Thesis/TropicalNN/initializer_tests.ipynb#X14sZmlsZQ%3D%3D?line=14'>15</a>\u001b[0m                     TropEmbedMaxMin(\u001b[39m10\u001b[39m, initializer_w \u001b[39m=\u001b[39m initializer_trop, lam\u001b[39m=\u001b[39mlam),\n\u001b[0;32m     <a href='vscode-notebook-cell:/c%3A/Users/kurtp/OneDrive%20-%20Naval%20Postgraduate%20School/Desktop/NPS%20School%20Work/Thesis/TropicalNN/initializer_tests.ipynb#X14sZmlsZQ%3D%3D?line=15'>16</a>\u001b[0m                     Dense(\u001b[39m10\u001b[39m, activation\u001b[39m=\u001b[39mfinal_layer_activation, kernel_initializer \u001b[39m=\u001b[39m initializer_relu)])\n\u001b[0;32m     <a href='vscode-notebook-cell:/c%3A/Users/kurtp/OneDrive%20-%20Naval%20Postgraduate%20School/Desktop/NPS%20School%20Work/Thesis/TropicalNN/initializer_tests.ipynb#X14sZmlsZQ%3D%3D?line=16'>17</a>\u001b[0m model\u001b[39m.\u001b[39mcompile(optimizer\u001b[39m=\u001b[39m\u001b[39m'\u001b[39m\u001b[39madam\u001b[39m\u001b[39m'\u001b[39m, loss\u001b[39m=\u001b[39mtraining_loss, metrics\u001b[39m=\u001b[39m[\u001b[39m'\u001b[39m\u001b[39maccuracy\u001b[39m\u001b[39m'\u001b[39m])\n\u001b[1;32m---> <a href='vscode-notebook-cell:/c%3A/Users/kurtp/OneDrive%20-%20Naval%20Postgraduate%20School/Desktop/NPS%20School%20Work/Thesis/TropicalNN/initializer_tests.ipynb#X14sZmlsZQ%3D%3D?line=17'>18</a>\u001b[0m model\u001b[39m.\u001b[39;49mfit(x_train, y_train, epochs\u001b[39m=\u001b[39;49mnum_epochs,batch_size\u001b[39m=\u001b[39;49mbatch_size, verbose\u001b[39m=\u001b[39;49mverbose)\n\u001b[0;32m     <a href='vscode-notebook-cell:/c%3A/Users/kurtp/OneDrive%20-%20Naval%20Postgraduate%20School/Desktop/NPS%20School%20Work/Thesis/TropicalNN/initializer_tests.ipynb#X14sZmlsZQ%3D%3D?line=18'>19</a>\u001b[0m end_time \u001b[39m=\u001b[39m time\u001b[39m.\u001b[39mtime()\n\u001b[0;32m     <a href='vscode-notebook-cell:/c%3A/Users/kurtp/OneDrive%20-%20Naval%20Postgraduate%20School/Desktop/NPS%20School%20Work/Thesis/TropicalNN/initializer_tests.ipynb#X14sZmlsZQ%3D%3D?line=19'>20</a>\u001b[0m elapsed_time \u001b[39m=\u001b[39m end_time \u001b[39m-\u001b[39m start_time\n",
      "File \u001b[1;32mc:\\Users\\kurtp\\anaconda3\\lib\\site-packages\\keras\\utils\\traceback_utils.py:65\u001b[0m, in \u001b[0;36mfilter_traceback.<locals>.error_handler\u001b[1;34m(*args, **kwargs)\u001b[0m\n\u001b[0;32m     63\u001b[0m filtered_tb \u001b[39m=\u001b[39m \u001b[39mNone\u001b[39;00m\n\u001b[0;32m     64\u001b[0m \u001b[39mtry\u001b[39;00m:\n\u001b[1;32m---> 65\u001b[0m     \u001b[39mreturn\u001b[39;00m fn(\u001b[39m*\u001b[39margs, \u001b[39m*\u001b[39m\u001b[39m*\u001b[39mkwargs)\n\u001b[0;32m     66\u001b[0m \u001b[39mexcept\u001b[39;00m \u001b[39mException\u001b[39;00m \u001b[39mas\u001b[39;00m e:\n\u001b[0;32m     67\u001b[0m     filtered_tb \u001b[39m=\u001b[39m _process_traceback_frames(e\u001b[39m.\u001b[39m__traceback__)\n",
      "File \u001b[1;32mc:\\Users\\kurtp\\anaconda3\\lib\\site-packages\\keras\\engine\\training.py:1564\u001b[0m, in \u001b[0;36mModel.fit\u001b[1;34m(self, x, y, batch_size, epochs, verbose, callbacks, validation_split, validation_data, shuffle, class_weight, sample_weight, initial_epoch, steps_per_epoch, validation_steps, validation_batch_size, validation_freq, max_queue_size, workers, use_multiprocessing)\u001b[0m\n\u001b[0;32m   1556\u001b[0m \u001b[39mwith\u001b[39;00m tf\u001b[39m.\u001b[39mprofiler\u001b[39m.\u001b[39mexperimental\u001b[39m.\u001b[39mTrace(\n\u001b[0;32m   1557\u001b[0m     \u001b[39m\"\u001b[39m\u001b[39mtrain\u001b[39m\u001b[39m\"\u001b[39m,\n\u001b[0;32m   1558\u001b[0m     epoch_num\u001b[39m=\u001b[39mepoch,\n\u001b[1;32m   (...)\u001b[0m\n\u001b[0;32m   1561\u001b[0m     _r\u001b[39m=\u001b[39m\u001b[39m1\u001b[39m,\n\u001b[0;32m   1562\u001b[0m ):\n\u001b[0;32m   1563\u001b[0m     callbacks\u001b[39m.\u001b[39mon_train_batch_begin(step)\n\u001b[1;32m-> 1564\u001b[0m     tmp_logs \u001b[39m=\u001b[39m \u001b[39mself\u001b[39;49m\u001b[39m.\u001b[39;49mtrain_function(iterator)\n\u001b[0;32m   1565\u001b[0m     \u001b[39mif\u001b[39;00m data_handler\u001b[39m.\u001b[39mshould_sync:\n\u001b[0;32m   1566\u001b[0m         context\u001b[39m.\u001b[39masync_wait()\n",
      "File \u001b[1;32mc:\\Users\\kurtp\\anaconda3\\lib\\site-packages\\tensorflow\\python\\util\\traceback_utils.py:150\u001b[0m, in \u001b[0;36mfilter_traceback.<locals>.error_handler\u001b[1;34m(*args, **kwargs)\u001b[0m\n\u001b[0;32m    148\u001b[0m filtered_tb \u001b[39m=\u001b[39m \u001b[39mNone\u001b[39;00m\n\u001b[0;32m    149\u001b[0m \u001b[39mtry\u001b[39;00m:\n\u001b[1;32m--> 150\u001b[0m   \u001b[39mreturn\u001b[39;00m fn(\u001b[39m*\u001b[39margs, \u001b[39m*\u001b[39m\u001b[39m*\u001b[39mkwargs)\n\u001b[0;32m    151\u001b[0m \u001b[39mexcept\u001b[39;00m \u001b[39mException\u001b[39;00m \u001b[39mas\u001b[39;00m e:\n\u001b[0;32m    152\u001b[0m   filtered_tb \u001b[39m=\u001b[39m _process_traceback_frames(e\u001b[39m.\u001b[39m__traceback__)\n",
      "File \u001b[1;32mc:\\Users\\kurtp\\anaconda3\\lib\\site-packages\\tensorflow\\python\\eager\\def_function.py:915\u001b[0m, in \u001b[0;36mFunction.__call__\u001b[1;34m(self, *args, **kwds)\u001b[0m\n\u001b[0;32m    912\u001b[0m compiler \u001b[39m=\u001b[39m \u001b[39m\"\u001b[39m\u001b[39mxla\u001b[39m\u001b[39m\"\u001b[39m \u001b[39mif\u001b[39;00m \u001b[39mself\u001b[39m\u001b[39m.\u001b[39m_jit_compile \u001b[39melse\u001b[39;00m \u001b[39m\"\u001b[39m\u001b[39mnonXla\u001b[39m\u001b[39m\"\u001b[39m\n\u001b[0;32m    914\u001b[0m \u001b[39mwith\u001b[39;00m OptionalXlaContext(\u001b[39mself\u001b[39m\u001b[39m.\u001b[39m_jit_compile):\n\u001b[1;32m--> 915\u001b[0m   result \u001b[39m=\u001b[39m \u001b[39mself\u001b[39m\u001b[39m.\u001b[39m_call(\u001b[39m*\u001b[39margs, \u001b[39m*\u001b[39m\u001b[39m*\u001b[39mkwds)\n\u001b[0;32m    917\u001b[0m new_tracing_count \u001b[39m=\u001b[39m \u001b[39mself\u001b[39m\u001b[39m.\u001b[39mexperimental_get_tracing_count()\n\u001b[0;32m    918\u001b[0m without_tracing \u001b[39m=\u001b[39m (tracing_count \u001b[39m==\u001b[39m new_tracing_count)\n",
      "File \u001b[1;32mc:\\Users\\kurtp\\anaconda3\\lib\\site-packages\\tensorflow\\python\\eager\\def_function.py:947\u001b[0m, in \u001b[0;36mFunction._call\u001b[1;34m(self, *args, **kwds)\u001b[0m\n\u001b[0;32m    944\u001b[0m   \u001b[39mself\u001b[39m\u001b[39m.\u001b[39m_lock\u001b[39m.\u001b[39mrelease()\n\u001b[0;32m    945\u001b[0m   \u001b[39m# In this case we have created variables on the first call, so we run the\u001b[39;00m\n\u001b[0;32m    946\u001b[0m   \u001b[39m# defunned version which is guaranteed to never create variables.\u001b[39;00m\n\u001b[1;32m--> 947\u001b[0m   \u001b[39mreturn\u001b[39;00m \u001b[39mself\u001b[39m\u001b[39m.\u001b[39m_stateless_fn(\u001b[39m*\u001b[39margs, \u001b[39m*\u001b[39m\u001b[39m*\u001b[39mkwds)  \u001b[39m# pylint: disable=not-callable\u001b[39;00m\n\u001b[0;32m    948\u001b[0m \u001b[39melif\u001b[39;00m \u001b[39mself\u001b[39m\u001b[39m.\u001b[39m_stateful_fn \u001b[39mis\u001b[39;00m \u001b[39mnot\u001b[39;00m \u001b[39mNone\u001b[39;00m:\n\u001b[0;32m    949\u001b[0m   \u001b[39m# Release the lock early so that multiple threads can perform the call\u001b[39;00m\n\u001b[0;32m    950\u001b[0m   \u001b[39m# in parallel.\u001b[39;00m\n\u001b[0;32m    951\u001b[0m   \u001b[39mself\u001b[39m\u001b[39m.\u001b[39m_lock\u001b[39m.\u001b[39mrelease()\n",
      "File \u001b[1;32mc:\\Users\\kurtp\\anaconda3\\lib\\site-packages\\tensorflow\\python\\eager\\function.py:2496\u001b[0m, in \u001b[0;36mFunction.__call__\u001b[1;34m(self, *args, **kwargs)\u001b[0m\n\u001b[0;32m   2493\u001b[0m \u001b[39mwith\u001b[39;00m \u001b[39mself\u001b[39m\u001b[39m.\u001b[39m_lock:\n\u001b[0;32m   2494\u001b[0m   (graph_function,\n\u001b[0;32m   2495\u001b[0m    filtered_flat_args) \u001b[39m=\u001b[39m \u001b[39mself\u001b[39m\u001b[39m.\u001b[39m_maybe_define_function(args, kwargs)\n\u001b[1;32m-> 2496\u001b[0m \u001b[39mreturn\u001b[39;00m graph_function\u001b[39m.\u001b[39;49m_call_flat(\n\u001b[0;32m   2497\u001b[0m     filtered_flat_args, captured_inputs\u001b[39m=\u001b[39;49mgraph_function\u001b[39m.\u001b[39;49mcaptured_inputs)\n",
      "File \u001b[1;32mc:\\Users\\kurtp\\anaconda3\\lib\\site-packages\\tensorflow\\python\\eager\\function.py:1862\u001b[0m, in \u001b[0;36mConcreteFunction._call_flat\u001b[1;34m(self, args, captured_inputs, cancellation_manager)\u001b[0m\n\u001b[0;32m   1858\u001b[0m possible_gradient_type \u001b[39m=\u001b[39m gradients_util\u001b[39m.\u001b[39mPossibleTapeGradientTypes(args)\n\u001b[0;32m   1859\u001b[0m \u001b[39mif\u001b[39;00m (possible_gradient_type \u001b[39m==\u001b[39m gradients_util\u001b[39m.\u001b[39mPOSSIBLE_GRADIENT_TYPES_NONE\n\u001b[0;32m   1860\u001b[0m     \u001b[39mand\u001b[39;00m executing_eagerly):\n\u001b[0;32m   1861\u001b[0m   \u001b[39m# No tape is watching; skip to running the function.\u001b[39;00m\n\u001b[1;32m-> 1862\u001b[0m   \u001b[39mreturn\u001b[39;00m \u001b[39mself\u001b[39m\u001b[39m.\u001b[39m_build_call_outputs(\u001b[39mself\u001b[39;49m\u001b[39m.\u001b[39;49m_inference_function\u001b[39m.\u001b[39;49mcall(\n\u001b[0;32m   1863\u001b[0m       ctx, args, cancellation_manager\u001b[39m=\u001b[39;49mcancellation_manager))\n\u001b[0;32m   1864\u001b[0m forward_backward \u001b[39m=\u001b[39m \u001b[39mself\u001b[39m\u001b[39m.\u001b[39m_select_forward_and_backward_functions(\n\u001b[0;32m   1865\u001b[0m     args,\n\u001b[0;32m   1866\u001b[0m     possible_gradient_type,\n\u001b[0;32m   1867\u001b[0m     executing_eagerly)\n\u001b[0;32m   1868\u001b[0m forward_function, args_with_tangents \u001b[39m=\u001b[39m forward_backward\u001b[39m.\u001b[39mforward()\n",
      "File \u001b[1;32mc:\\Users\\kurtp\\anaconda3\\lib\\site-packages\\tensorflow\\python\\eager\\function.py:499\u001b[0m, in \u001b[0;36m_EagerDefinedFunction.call\u001b[1;34m(self, ctx, args, cancellation_manager)\u001b[0m\n\u001b[0;32m    497\u001b[0m \u001b[39mwith\u001b[39;00m _InterpolateFunctionError(\u001b[39mself\u001b[39m):\n\u001b[0;32m    498\u001b[0m   \u001b[39mif\u001b[39;00m cancellation_manager \u001b[39mis\u001b[39;00m \u001b[39mNone\u001b[39;00m:\n\u001b[1;32m--> 499\u001b[0m     outputs \u001b[39m=\u001b[39m execute\u001b[39m.\u001b[39;49mexecute(\n\u001b[0;32m    500\u001b[0m         \u001b[39mstr\u001b[39;49m(\u001b[39mself\u001b[39;49m\u001b[39m.\u001b[39;49msignature\u001b[39m.\u001b[39;49mname),\n\u001b[0;32m    501\u001b[0m         num_outputs\u001b[39m=\u001b[39;49m\u001b[39mself\u001b[39;49m\u001b[39m.\u001b[39;49m_num_outputs,\n\u001b[0;32m    502\u001b[0m         inputs\u001b[39m=\u001b[39;49margs,\n\u001b[0;32m    503\u001b[0m         attrs\u001b[39m=\u001b[39;49mattrs,\n\u001b[0;32m    504\u001b[0m         ctx\u001b[39m=\u001b[39;49mctx)\n\u001b[0;32m    505\u001b[0m   \u001b[39melse\u001b[39;00m:\n\u001b[0;32m    506\u001b[0m     outputs \u001b[39m=\u001b[39m execute\u001b[39m.\u001b[39mexecute_with_cancellation(\n\u001b[0;32m    507\u001b[0m         \u001b[39mstr\u001b[39m(\u001b[39mself\u001b[39m\u001b[39m.\u001b[39msignature\u001b[39m.\u001b[39mname),\n\u001b[0;32m    508\u001b[0m         num_outputs\u001b[39m=\u001b[39m\u001b[39mself\u001b[39m\u001b[39m.\u001b[39m_num_outputs,\n\u001b[1;32m   (...)\u001b[0m\n\u001b[0;32m    511\u001b[0m         ctx\u001b[39m=\u001b[39mctx,\n\u001b[0;32m    512\u001b[0m         cancellation_manager\u001b[39m=\u001b[39mcancellation_manager)\n",
      "File \u001b[1;32mc:\\Users\\kurtp\\anaconda3\\lib\\site-packages\\tensorflow\\python\\eager\\execute.py:54\u001b[0m, in \u001b[0;36mquick_execute\u001b[1;34m(op_name, num_outputs, inputs, attrs, ctx, name)\u001b[0m\n\u001b[0;32m     52\u001b[0m \u001b[39mtry\u001b[39;00m:\n\u001b[0;32m     53\u001b[0m   ctx\u001b[39m.\u001b[39mensure_initialized()\n\u001b[1;32m---> 54\u001b[0m   tensors \u001b[39m=\u001b[39m pywrap_tfe\u001b[39m.\u001b[39;49mTFE_Py_Execute(ctx\u001b[39m.\u001b[39;49m_handle, device_name, op_name,\n\u001b[0;32m     55\u001b[0m                                       inputs, attrs, num_outputs)\n\u001b[0;32m     56\u001b[0m \u001b[39mexcept\u001b[39;00m core\u001b[39m.\u001b[39m_NotOkStatusException \u001b[39mas\u001b[39;00m e:\n\u001b[0;32m     57\u001b[0m   \u001b[39mif\u001b[39;00m name \u001b[39mis\u001b[39;00m \u001b[39mnot\u001b[39;00m \u001b[39mNone\u001b[39;00m:\n",
      "\u001b[1;31mKeyboardInterrupt\u001b[0m: "
     ]
    }
   ],
   "source": [
    "def conv_trop_then_relu_3layer_model(x_train, \n",
    "                       y_train, \n",
    "                       num_epochs = 10,\n",
    "                       batch_size = 64, \n",
    "                       verbose = 1, \n",
    "                       initializer_trop = initializers.random_normal,\n",
    "                       initializer_relu = initializers.RandomNormal(mean=0.5, stddev=1., seed=0),\n",
    "                       final_layer_activation = 'softmax', \n",
    "                       training_loss = 'categorical_crossentropy',\n",
    "                       lam = 0.01):\n",
    "    start_time = time.time() \n",
    "    #in_channels = x_train.shape[-1]\n",
    "    model = Sequential([TropConv2D(1000, initializer_w = initializer_trop, lam=lam),\n",
    "                        Flatten(),\n",
    "                        TropEmbedMaxMin(10, initializer_w = initializer_trop, lam=lam),\n",
    "                        Dense(10, activation=final_layer_activation, kernel_initializer = initializer_relu)])\n",
    "    model.compile(optimizer='adam', loss=training_loss, metrics=['accuracy'])\n",
    "    model.fit(x_train, y_train, epochs=num_epochs,batch_size=batch_size, verbose=verbose)\n",
    "    end_time = time.time()\n",
    "    elapsed_time = end_time - start_time\n",
    "    print(f\"Tropical model built. Elapsed time: {elapsed_time:.2f} seconds | {elapsed_time/60:.2f} minutes.\")\n",
    "    #model.build(input_shape=(32, 28, 28, 1))\n",
    "    #model.summary()\n",
    "    return model\n",
    "\n",
    "troppy_model = conv_trop_then_relu_3layer_model(x_train=x_train, y_train=y_train, lam = 0.01)"
   ]
  },
  {
   "cell_type": "code",
   "execution_count": 6,
   "metadata": {},
   "outputs": [
    {
     "name": "stdout",
     "output_type": "stream",
     "text": [
      "Epoch 1/10\n",
      "938/938 [==============================] - 100s 106ms/step - loss: 0.5720 - accuracy: 0.8334\n",
      "Epoch 2/10\n",
      "938/938 [==============================] - 97s 104ms/step - loss: 0.2306 - accuracy: 0.9344\n",
      "Epoch 3/10\n",
      "938/938 [==============================] - 95s 101ms/step - loss: 0.1728 - accuracy: 0.9524\n",
      "Epoch 4/10\n",
      "938/938 [==============================] - 97s 103ms/step - loss: 0.1502 - accuracy: 0.9603\n",
      "Epoch 5/10\n",
      "938/938 [==============================] - 96s 103ms/step - loss: 0.1366 - accuracy: 0.9645\n",
      "Epoch 6/10\n",
      "938/938 [==============================] - 96s 103ms/step - loss: 0.1278 - accuracy: 0.9668\n",
      "Epoch 7/10\n",
      "938/938 [==============================] - 95s 101ms/step - loss: 0.1157 - accuracy: 0.9699\n",
      "Epoch 8/10\n",
      "938/938 [==============================] - 98s 105ms/step - loss: 0.1077 - accuracy: 0.9737\n",
      "Epoch 9/10\n",
      "938/938 [==============================] - 100s 106ms/step - loss: 0.1046 - accuracy: 0.9730\n",
      "Epoch 10/10\n",
      "938/938 [==============================] - 105s 112ms/step - loss: 0.0980 - accuracy: 0.9751\n",
      "Tropical model built. Elapsed time: 980.45 seconds | 16.34 minutes.\n"
     ]
    }
   ],
   "source": [
    "def conv_relu_then_trop_3layer_model(x_train, \n",
    "                       y_train, \n",
    "                       num_epochs = 10,\n",
    "                       batch_size = 64, \n",
    "                       verbose = 1,\n",
    "                       initializer_relu = initializers.RandomNormal(mean=0.5, stddev=1., seed=0),\n",
    "                       final_layer_activation = 'softmax', \n",
    "                       training_loss = 'categorical_crossentropy',\n",
    "                       initializer_w = BimodalNormalInitializer(stddev=1,high=5.5, low=-4.5),\n",
    "                       lam=0.0):\n",
    "    start_time = time.time() \n",
    "    input_shape = x_train[0].shape\n",
    "    model = Sequential([TropConv2D(filters = 32),\n",
    "                        MaxPooling2D((2, 2)),                            \n",
    "                        Conv2D(32, (3, 3), activation='relu'),\n",
    "                        MaxPooling2D((2, 2)),\n",
    "                        Conv2D(32, (3, 3), activation='relu'),\n",
    "                        Flatten(),\n",
    "                        #TropEmbedMaxMin(64, initializer_w = initializer_w, lam=lam),\n",
    "                        Dense(10, activation=final_layer_activation, kernel_initializer = initializer_relu)])\n",
    "    model.compile(optimizer='adam', loss=training_loss, metrics=['accuracy'])\n",
    "    model.fit(x_train, y_train, epochs=num_epochs,batch_size=batch_size, verbose=verbose)\n",
    "    end_time = time.time()\n",
    "    elapsed_time = end_time - start_time\n",
    "    print(f\"Tropical model built. Elapsed time: {elapsed_time:.2f} seconds | {elapsed_time/60:.2f} minutes.\")\n",
    "    #model.build(input_shape=(32, 28, 28, 1))\n",
    "    #model.summary()\n",
    "    return model\n",
    "\n",
    "troppy_model = conv_relu_then_trop_3layer_model(x_train=x_train, y_train=y_train, lam = 0.01)"
   ]
  },
  {
   "cell_type": "code",
   "execution_count": 9,
   "metadata": {},
   "outputs": [
    {
     "name": "stdout",
     "output_type": "stream",
     "text": [
      "Epoch 1/10\n",
      "938/938 [==============================] - 66s 67ms/step - loss: 1.7219 - accuracy: 0.5028\n",
      "Epoch 2/10\n",
      "938/938 [==============================] - 61s 65ms/step - loss: 0.5071 - accuracy: 0.8455\n",
      "Epoch 3/10\n",
      "938/938 [==============================] - 72s 77ms/step - loss: 0.3193 - accuracy: 0.9072\n",
      "Epoch 4/10\n",
      "938/938 [==============================] - 133s 141ms/step - loss: 0.2481 - accuracy: 0.9313\n",
      "Epoch 5/10\n",
      "938/938 [==============================] - 78s 83ms/step - loss: 0.2103 - accuracy: 0.9429\n",
      "Epoch 6/10\n",
      "938/938 [==============================] - 62s 66ms/step - loss: 0.2122 - accuracy: 0.9416\n",
      "Epoch 7/10\n",
      "938/938 [==============================] - 60s 64ms/step - loss: 0.2020 - accuracy: 0.9431\n",
      "Epoch 8/10\n",
      "938/938 [==============================] - 60s 64ms/step - loss: 0.1806 - accuracy: 0.9509\n",
      "Epoch 9/10\n",
      "938/938 [==============================] - 62s 66ms/step - loss: 0.1709 - accuracy: 0.9536\n",
      "Epoch 10/10\n",
      "938/938 [==============================] - 60s 64ms/step - loss: 0.1630 - accuracy: 0.9563\n",
      "Tropical model built. Elapsed time: 715.99 seconds | 11.93 minutes.\n"
     ]
    }
   ],
   "source": [
    "def conv_relu_then_trop_3layer_model(x_train, \n",
    "                       y_train, \n",
    "                       num_epochs = 10,\n",
    "                       batch_size = 64, \n",
    "                       verbose = 1,\n",
    "                       initializer_relu = initializers.RandomNormal(mean=0.5, stddev=1., seed=0),\n",
    "                       final_layer_activation = 'softmax', \n",
    "                       training_loss = 'categorical_crossentropy',\n",
    "                       initializer_w = BimodalNormalInitializer(stddev=1,high=5.5, low=-4.5),\n",
    "                       lam=0.0):\n",
    "    start_time = time.time() \n",
    "    input_shape = x_train[0].shape\n",
    "    model = Sequential([TropConv2D(filters = 32),\n",
    "                        MaxPooling2D((2, 2)),                            \n",
    "                        Conv2D(32, (3, 3), activation='relu'),\n",
    "                        #MaxPooling2D((2, 2)),\n",
    "                        #Conv2D(32, (3, 3), activation='relu'),\n",
    "                        Flatten(),\n",
    "                        \n",
    "                        Dense(10, activation=final_layer_activation, kernel_initializer = initializer_relu)])\n",
    "    model.compile(optimizer='adam', loss=training_loss, metrics=['accuracy'])\n",
    "    model.fit(x_train, y_train, epochs=num_epochs,batch_size=batch_size, verbose=verbose)\n",
    "    end_time = time.time()\n",
    "    elapsed_time = end_time - start_time\n",
    "    print(f\"Tropical model built. Elapsed time: {elapsed_time:.2f} seconds | {elapsed_time/60:.2f} minutes.\")\n",
    "    #model.build(input_shape=(32, 28, 28, 1))\n",
    "    #model.summary()\n",
    "    return model\n",
    "\n",
    "troppy_model = conv_relu_then_trop_3layer_model(x_train=x_train, y_train=y_train, lam = 0.01)"
   ]
  },
  {
   "cell_type": "code",
   "execution_count": 10,
   "metadata": {},
   "outputs": [
    {
     "name": "stdout",
     "output_type": "stream",
     "text": [
      "Tropical model 0% attacked.\n",
      "Tropical model 40% attacked.\n",
      "Tropical model 80% attacked.\n",
      "Tropical attack complete. Elapsed time: 154.07 seconds /// 2.57 minutes.\n",
      "313/313 [==============================] - 3s 10ms/step\n",
      "313/313 [==============================] - 3s 10ms/step - loss: 0.1477 - accuracy: 0.9595\n",
      "313/313 [==============================] - 3s 10ms/step\n",
      "313/313 [==============================] - 3s 11ms/step - loss: 1.2608 - accuracy: 0.5974\n",
      "0.9595 0.5974 0.6224075039082856\n"
     ]
    }
   ],
   "source": [
    "# -- TROPICAL: attack model -- \n",
    "trop_x_test_att = attackTestSetBatch(troppy_model, x_test, y_test, epsilon=0.1, loss_object=losses.CategoricalCrossentropy(), modelName='Tropical')\n",
    "\n",
    "# -- TROPICAL: evaluate -- \n",
    "# - before attack -\n",
    "pre_trop_preds = np.argmax(troppy_model.predict(x_test), axis=1)\n",
    "y_tester = np.argmax(y_test, axis=1)\n",
    "pre_correct_index = np.equal(pre_trop_preds, y_tester)\n",
    "pre_correct_accuracy = np.average(pre_correct_index)\n",
    "troppy_model.evaluate(x_test, y_test)\n",
    "\n",
    "# - after attack - \n",
    "post_trop_preds = np.argmax(troppy_model.predict(trop_x_test_att), axis=1)\n",
    "post_correct_index = np.equal(post_trop_preds, y_tester)\n",
    "post_correct_accuracy = np.average(post_correct_index)\n",
    "troppy_model.evaluate(trop_x_test_att, y_test)\n",
    "\n",
    "# - number maintaining prediction - \n",
    "maintained_correct_pred = np.average(np.equal(post_trop_preds[pre_correct_index], y_tester[pre_correct_index]))\n",
    "print(pre_correct_accuracy, post_correct_accuracy, maintained_correct_pred)"
   ]
  },
  {
   "cell_type": "code",
   "execution_count": 24,
   "metadata": {},
   "outputs": [
    {
     "name": "stdout",
     "output_type": "stream",
     "text": [
      "Epoch 1/10\n",
      "1145/1145 [==============================] - 119s 103ms/step - loss: 1.0009 - accuracy: 0.6780\n",
      "Epoch 2/10\n",
      "1145/1145 [==============================] - 132s 116ms/step - loss: 0.5018 - accuracy: 0.8523\n",
      "Epoch 3/10\n",
      "1145/1145 [==============================] - 134s 117ms/step - loss: 0.4266 - accuracy: 0.8730\n",
      "Epoch 4/10\n",
      "1145/1145 [==============================] - 137s 120ms/step - loss: 0.3785 - accuracy: 0.8878\n",
      "Epoch 5/10\n",
      "1145/1145 [==============================] - 138s 120ms/step - loss: 0.3486 - accuracy: 0.8978\n",
      "Epoch 6/10\n",
      "1145/1145 [==============================] - 144s 125ms/step - loss: 0.3244 - accuracy: 0.9029\n",
      "Epoch 7/10\n",
      "1145/1145 [==============================] - 137s 119ms/step - loss: 0.3000 - accuracy: 0.9109\n",
      "Epoch 8/10\n",
      "1145/1145 [==============================] - 128s 112ms/step - loss: 0.2833 - accuracy: 0.9154\n",
      "Epoch 9/10\n",
      "1145/1145 [==============================] - 134s 117ms/step - loss: 0.2673 - accuracy: 0.9202\n",
      "Epoch 10/10\n",
      "1145/1145 [==============================] - 134s 117ms/step - loss: 0.2525 - accuracy: 0.9240\n",
      "Tropical model built. Elapsed time: 1338.08 seconds | 22.30 minutes.\n"
     ]
    }
   ],
   "source": [
    "def conv_relu_3layer_model(x_train, \n",
    "                       y_train, \n",
    "                       num_epochs = 10,\n",
    "                       batch_size = 64, \n",
    "                       verbose = 1,\n",
    "                       initializer_relu = initializers.random_normal,\n",
    "                       final_layer_activation = 'softmax', \n",
    "                       training_loss = 'categorical_crossentropy',\n",
    "                       initializer_w = BimodalNormalInitializer(stddev=1,high=5.5, low=-4.5),\n",
    "                       lam=0.0):\n",
    "    start_time = time.time() \n",
    "    input_shape = x_train[0].shape\n",
    "    model = Sequential([Conv2D(32, (1, 1), activation='relu'),\n",
    "                        MaxPooling2D((2, 2)),                            \n",
    "                        Conv2D(64, (3, 3), activation='relu'),\n",
    "                        MaxPooling2D((2, 2)),                            \n",
    "                        Conv2D(64, (3, 3), activation='relu'),\n",
    "                        Flatten(),\n",
    "                        Dense(64, activation='relu', kernel_initializer = initializer_relu),\n",
    "                        Dense(10, activation=final_layer_activation, kernel_initializer = initializer_relu)])\n",
    "    model.compile(optimizer='adam', loss=training_loss, metrics=['accuracy'])\n",
    "    model.fit(x_train, y_train, epochs=num_epochs,batch_size=batch_size, verbose=verbose)\n",
    "    end_time = time.time()\n",
    "    elapsed_time = end_time - start_time\n",
    "    print(f\"Tropical model built. Elapsed time: {elapsed_time:.2f} seconds | {elapsed_time/60:.2f} minutes.\")\n",
    "    #model.build(input_shape=(32, 28, 28, 1))\n",
    "    #model.summary()\n",
    "    return model\n",
    "\n",
    "relu_model = conv_relu_3layer_model(x_train=x_train, y_train=y_train, lam = 0.01)"
   ]
  },
  {
   "cell_type": "code",
   "execution_count": 25,
   "metadata": {},
   "outputs": [
    {
     "name": "stdout",
     "output_type": "stream",
     "text": [
      "ReLU model 0% attacked.\n",
      "ReLU attack complete. Elapsed time: 994.96 seconds /// 16.58 minutes.\n",
      "814/814 [==============================] - 4s 4ms/step\n",
      "814/814 [==============================] - 5s 5ms/step - loss: 0.3964 - accuracy: 0.8943\n",
      "814/814 [==============================] - 6s 7ms/step\n",
      "814/814 [==============================] - 9s 11ms/step - loss: 21.6798 - accuracy: 0.0254\n",
      "0.8943223724646588 0.02539182544560541 0.026588204974013145\n"
     ]
    }
   ],
   "source": [
    "# -- RELU: fit model --\n",
    "#relu_model = conv_relu_3layer_model(x_train=x_train, y_train=y_train)\n",
    "\n",
    "# -- RELU: attack model -- \n",
    "relu_x_test_att = attackTestSetBatch(relu_model, x_test, y_test,  epsilon=0.1, loss_object=losses.CategoricalCrossentropy(), num_steps = 20, modelName='ReLU')\n",
    "\n",
    "# -- RELU: evaluate --\n",
    "# - before attack -\n",
    "pre_relu_preds = np.argmax(relu_model.predict(x_test), axis=1)\n",
    "y_tester = np.argmax(y_test, axis=1)\n",
    "pre_correct_index = np.equal(pre_relu_preds, y_tester)\n",
    "pre_correct_accuracy = np.average(pre_correct_index)\n",
    "relu_model.evaluate(x_test, y_test)\n",
    "\n",
    "# - after attack - \n",
    "post_relu_preds = np.argmax(relu_model.predict(relu_x_test_att), axis=1)\n",
    "post_correct_index = np.equal(post_relu_preds, y_tester)\n",
    "post_correct_accuracy = np.average(post_correct_index)\n",
    "relu_model.evaluate(relu_x_test_att, y_test)\n",
    "\n",
    "# - number maintaining prediction - \n",
    "maintained_correct_pred = np.average(np.equal(post_relu_preds[pre_correct_index], y_tester[pre_correct_index]))\n",
    "print(pre_correct_accuracy, post_correct_accuracy, maintained_correct_pred)"
   ]
  },
  {
   "cell_type": "code",
   "execution_count": 21,
   "metadata": {},
   "outputs": [
    {
     "name": "stdout",
     "output_type": "stream",
     "text": [
      "Epoch 1/10\n",
      "   5/1145 [..............................] - ETA: 21:49 - loss: 4.8526 - accuracy: 0.1312"
     ]
    },
    {
     "ename": "KeyboardInterrupt",
     "evalue": "",
     "output_type": "error",
     "traceback": [
      "\u001b[1;31m---------------------------------------------------------------------------\u001b[0m",
      "\u001b[1;31mKeyboardInterrupt\u001b[0m                         Traceback (most recent call last)",
      "\u001b[1;32mc:\\Users\\kurtp\\OneDrive - Naval Postgraduate School\\Desktop\\NPS School Work\\Thesis\\TropicalNN\\initializer_tests.ipynb Cell 15\u001b[0m line \u001b[0;36m7\n\u001b[0;32m     <a href='vscode-notebook-cell:/c%3A/Users/kurtp/OneDrive%20-%20Naval%20Postgraduate%20School/Desktop/NPS%20School%20Work/Thesis/TropicalNN/initializer_tests.ipynb#X20sZmlsZQ%3D%3D?line=70'>71</a>\u001b[0m epochs \u001b[39m=\u001b[39m \u001b[39m10\u001b[39m\n\u001b[0;32m     <a href='vscode-notebook-cell:/c%3A/Users/kurtp/OneDrive%20-%20Naval%20Postgraduate%20School/Desktop/NPS%20School%20Work/Thesis/TropicalNN/initializer_tests.ipynb#X20sZmlsZQ%3D%3D?line=72'>73</a>\u001b[0m \u001b[39m# Train the model\u001b[39;00m\n\u001b[1;32m---> <a href='vscode-notebook-cell:/c%3A/Users/kurtp/OneDrive%20-%20Naval%20Postgraduate%20School/Desktop/NPS%20School%20Work/Thesis/TropicalNN/initializer_tests.ipynb#X20sZmlsZQ%3D%3D?line=73'>74</a>\u001b[0m model\u001b[39m.\u001b[39;49mfit(x_train, np\u001b[39m.\u001b[39;49margmax(y_train, axis\u001b[39m=\u001b[39;49m\u001b[39m1\u001b[39;49m), batch_size\u001b[39m=\u001b[39;49mbatch_size, epochs\u001b[39m=\u001b[39;49mepochs)\n\u001b[0;32m     <a href='vscode-notebook-cell:/c%3A/Users/kurtp/OneDrive%20-%20Naval%20Postgraduate%20School/Desktop/NPS%20School%20Work/Thesis/TropicalNN/initializer_tests.ipynb#X20sZmlsZQ%3D%3D?line=75'>76</a>\u001b[0m \u001b[39m# Evaluate the model\u001b[39;00m\n\u001b[0;32m     <a href='vscode-notebook-cell:/c%3A/Users/kurtp/OneDrive%20-%20Naval%20Postgraduate%20School/Desktop/NPS%20School%20Work/Thesis/TropicalNN/initializer_tests.ipynb#X20sZmlsZQ%3D%3D?line=76'>77</a>\u001b[0m test_loss, test_acc \u001b[39m=\u001b[39m model\u001b[39m.\u001b[39mevaluate(x_test, np\u001b[39m.\u001b[39margmax(y_test, axis\u001b[39m=\u001b[39m\u001b[39m1\u001b[39m))\n",
      "File \u001b[1;32mc:\\Users\\kurtp\\anaconda3\\lib\\site-packages\\keras\\utils\\traceback_utils.py:65\u001b[0m, in \u001b[0;36mfilter_traceback.<locals>.error_handler\u001b[1;34m(*args, **kwargs)\u001b[0m\n\u001b[0;32m     63\u001b[0m filtered_tb \u001b[39m=\u001b[39m \u001b[39mNone\u001b[39;00m\n\u001b[0;32m     64\u001b[0m \u001b[39mtry\u001b[39;00m:\n\u001b[1;32m---> 65\u001b[0m     \u001b[39mreturn\u001b[39;00m fn(\u001b[39m*\u001b[39margs, \u001b[39m*\u001b[39m\u001b[39m*\u001b[39mkwargs)\n\u001b[0;32m     66\u001b[0m \u001b[39mexcept\u001b[39;00m \u001b[39mException\u001b[39;00m \u001b[39mas\u001b[39;00m e:\n\u001b[0;32m     67\u001b[0m     filtered_tb \u001b[39m=\u001b[39m _process_traceback_frames(e\u001b[39m.\u001b[39m__traceback__)\n",
      "File \u001b[1;32mc:\\Users\\kurtp\\anaconda3\\lib\\site-packages\\keras\\engine\\training.py:1564\u001b[0m, in \u001b[0;36mModel.fit\u001b[1;34m(self, x, y, batch_size, epochs, verbose, callbacks, validation_split, validation_data, shuffle, class_weight, sample_weight, initial_epoch, steps_per_epoch, validation_steps, validation_batch_size, validation_freq, max_queue_size, workers, use_multiprocessing)\u001b[0m\n\u001b[0;32m   1556\u001b[0m \u001b[39mwith\u001b[39;00m tf\u001b[39m.\u001b[39mprofiler\u001b[39m.\u001b[39mexperimental\u001b[39m.\u001b[39mTrace(\n\u001b[0;32m   1557\u001b[0m     \u001b[39m\"\u001b[39m\u001b[39mtrain\u001b[39m\u001b[39m\"\u001b[39m,\n\u001b[0;32m   1558\u001b[0m     epoch_num\u001b[39m=\u001b[39mepoch,\n\u001b[1;32m   (...)\u001b[0m\n\u001b[0;32m   1561\u001b[0m     _r\u001b[39m=\u001b[39m\u001b[39m1\u001b[39m,\n\u001b[0;32m   1562\u001b[0m ):\n\u001b[0;32m   1563\u001b[0m     callbacks\u001b[39m.\u001b[39mon_train_batch_begin(step)\n\u001b[1;32m-> 1564\u001b[0m     tmp_logs \u001b[39m=\u001b[39m \u001b[39mself\u001b[39;49m\u001b[39m.\u001b[39;49mtrain_function(iterator)\n\u001b[0;32m   1565\u001b[0m     \u001b[39mif\u001b[39;00m data_handler\u001b[39m.\u001b[39mshould_sync:\n\u001b[0;32m   1566\u001b[0m         context\u001b[39m.\u001b[39masync_wait()\n",
      "File \u001b[1;32mc:\\Users\\kurtp\\anaconda3\\lib\\site-packages\\tensorflow\\python\\util\\traceback_utils.py:150\u001b[0m, in \u001b[0;36mfilter_traceback.<locals>.error_handler\u001b[1;34m(*args, **kwargs)\u001b[0m\n\u001b[0;32m    148\u001b[0m filtered_tb \u001b[39m=\u001b[39m \u001b[39mNone\u001b[39;00m\n\u001b[0;32m    149\u001b[0m \u001b[39mtry\u001b[39;00m:\n\u001b[1;32m--> 150\u001b[0m   \u001b[39mreturn\u001b[39;00m fn(\u001b[39m*\u001b[39margs, \u001b[39m*\u001b[39m\u001b[39m*\u001b[39mkwargs)\n\u001b[0;32m    151\u001b[0m \u001b[39mexcept\u001b[39;00m \u001b[39mException\u001b[39;00m \u001b[39mas\u001b[39;00m e:\n\u001b[0;32m    152\u001b[0m   filtered_tb \u001b[39m=\u001b[39m _process_traceback_frames(e\u001b[39m.\u001b[39m__traceback__)\n",
      "File \u001b[1;32mc:\\Users\\kurtp\\anaconda3\\lib\\site-packages\\tensorflow\\python\\eager\\def_function.py:915\u001b[0m, in \u001b[0;36mFunction.__call__\u001b[1;34m(self, *args, **kwds)\u001b[0m\n\u001b[0;32m    912\u001b[0m compiler \u001b[39m=\u001b[39m \u001b[39m\"\u001b[39m\u001b[39mxla\u001b[39m\u001b[39m\"\u001b[39m \u001b[39mif\u001b[39;00m \u001b[39mself\u001b[39m\u001b[39m.\u001b[39m_jit_compile \u001b[39melse\u001b[39;00m \u001b[39m\"\u001b[39m\u001b[39mnonXla\u001b[39m\u001b[39m\"\u001b[39m\n\u001b[0;32m    914\u001b[0m \u001b[39mwith\u001b[39;00m OptionalXlaContext(\u001b[39mself\u001b[39m\u001b[39m.\u001b[39m_jit_compile):\n\u001b[1;32m--> 915\u001b[0m   result \u001b[39m=\u001b[39m \u001b[39mself\u001b[39m\u001b[39m.\u001b[39m_call(\u001b[39m*\u001b[39margs, \u001b[39m*\u001b[39m\u001b[39m*\u001b[39mkwds)\n\u001b[0;32m    917\u001b[0m new_tracing_count \u001b[39m=\u001b[39m \u001b[39mself\u001b[39m\u001b[39m.\u001b[39mexperimental_get_tracing_count()\n\u001b[0;32m    918\u001b[0m without_tracing \u001b[39m=\u001b[39m (tracing_count \u001b[39m==\u001b[39m new_tracing_count)\n",
      "File \u001b[1;32mc:\\Users\\kurtp\\anaconda3\\lib\\site-packages\\tensorflow\\python\\eager\\def_function.py:947\u001b[0m, in \u001b[0;36mFunction._call\u001b[1;34m(self, *args, **kwds)\u001b[0m\n\u001b[0;32m    944\u001b[0m   \u001b[39mself\u001b[39m\u001b[39m.\u001b[39m_lock\u001b[39m.\u001b[39mrelease()\n\u001b[0;32m    945\u001b[0m   \u001b[39m# In this case we have created variables on the first call, so we run the\u001b[39;00m\n\u001b[0;32m    946\u001b[0m   \u001b[39m# defunned version which is guaranteed to never create variables.\u001b[39;00m\n\u001b[1;32m--> 947\u001b[0m   \u001b[39mreturn\u001b[39;00m \u001b[39mself\u001b[39m\u001b[39m.\u001b[39m_stateless_fn(\u001b[39m*\u001b[39margs, \u001b[39m*\u001b[39m\u001b[39m*\u001b[39mkwds)  \u001b[39m# pylint: disable=not-callable\u001b[39;00m\n\u001b[0;32m    948\u001b[0m \u001b[39melif\u001b[39;00m \u001b[39mself\u001b[39m\u001b[39m.\u001b[39m_stateful_fn \u001b[39mis\u001b[39;00m \u001b[39mnot\u001b[39;00m \u001b[39mNone\u001b[39;00m:\n\u001b[0;32m    949\u001b[0m   \u001b[39m# Release the lock early so that multiple threads can perform the call\u001b[39;00m\n\u001b[0;32m    950\u001b[0m   \u001b[39m# in parallel.\u001b[39;00m\n\u001b[0;32m    951\u001b[0m   \u001b[39mself\u001b[39m\u001b[39m.\u001b[39m_lock\u001b[39m.\u001b[39mrelease()\n",
      "File \u001b[1;32mc:\\Users\\kurtp\\anaconda3\\lib\\site-packages\\tensorflow\\python\\eager\\function.py:2496\u001b[0m, in \u001b[0;36mFunction.__call__\u001b[1;34m(self, *args, **kwargs)\u001b[0m\n\u001b[0;32m   2493\u001b[0m \u001b[39mwith\u001b[39;00m \u001b[39mself\u001b[39m\u001b[39m.\u001b[39m_lock:\n\u001b[0;32m   2494\u001b[0m   (graph_function,\n\u001b[0;32m   2495\u001b[0m    filtered_flat_args) \u001b[39m=\u001b[39m \u001b[39mself\u001b[39m\u001b[39m.\u001b[39m_maybe_define_function(args, kwargs)\n\u001b[1;32m-> 2496\u001b[0m \u001b[39mreturn\u001b[39;00m graph_function\u001b[39m.\u001b[39;49m_call_flat(\n\u001b[0;32m   2497\u001b[0m     filtered_flat_args, captured_inputs\u001b[39m=\u001b[39;49mgraph_function\u001b[39m.\u001b[39;49mcaptured_inputs)\n",
      "File \u001b[1;32mc:\\Users\\kurtp\\anaconda3\\lib\\site-packages\\tensorflow\\python\\eager\\function.py:1862\u001b[0m, in \u001b[0;36mConcreteFunction._call_flat\u001b[1;34m(self, args, captured_inputs, cancellation_manager)\u001b[0m\n\u001b[0;32m   1858\u001b[0m possible_gradient_type \u001b[39m=\u001b[39m gradients_util\u001b[39m.\u001b[39mPossibleTapeGradientTypes(args)\n\u001b[0;32m   1859\u001b[0m \u001b[39mif\u001b[39;00m (possible_gradient_type \u001b[39m==\u001b[39m gradients_util\u001b[39m.\u001b[39mPOSSIBLE_GRADIENT_TYPES_NONE\n\u001b[0;32m   1860\u001b[0m     \u001b[39mand\u001b[39;00m executing_eagerly):\n\u001b[0;32m   1861\u001b[0m   \u001b[39m# No tape is watching; skip to running the function.\u001b[39;00m\n\u001b[1;32m-> 1862\u001b[0m   \u001b[39mreturn\u001b[39;00m \u001b[39mself\u001b[39m\u001b[39m.\u001b[39m_build_call_outputs(\u001b[39mself\u001b[39;49m\u001b[39m.\u001b[39;49m_inference_function\u001b[39m.\u001b[39;49mcall(\n\u001b[0;32m   1863\u001b[0m       ctx, args, cancellation_manager\u001b[39m=\u001b[39;49mcancellation_manager))\n\u001b[0;32m   1864\u001b[0m forward_backward \u001b[39m=\u001b[39m \u001b[39mself\u001b[39m\u001b[39m.\u001b[39m_select_forward_and_backward_functions(\n\u001b[0;32m   1865\u001b[0m     args,\n\u001b[0;32m   1866\u001b[0m     possible_gradient_type,\n\u001b[0;32m   1867\u001b[0m     executing_eagerly)\n\u001b[0;32m   1868\u001b[0m forward_function, args_with_tangents \u001b[39m=\u001b[39m forward_backward\u001b[39m.\u001b[39mforward()\n",
      "File \u001b[1;32mc:\\Users\\kurtp\\anaconda3\\lib\\site-packages\\tensorflow\\python\\eager\\function.py:499\u001b[0m, in \u001b[0;36m_EagerDefinedFunction.call\u001b[1;34m(self, ctx, args, cancellation_manager)\u001b[0m\n\u001b[0;32m    497\u001b[0m \u001b[39mwith\u001b[39;00m _InterpolateFunctionError(\u001b[39mself\u001b[39m):\n\u001b[0;32m    498\u001b[0m   \u001b[39mif\u001b[39;00m cancellation_manager \u001b[39mis\u001b[39;00m \u001b[39mNone\u001b[39;00m:\n\u001b[1;32m--> 499\u001b[0m     outputs \u001b[39m=\u001b[39m execute\u001b[39m.\u001b[39;49mexecute(\n\u001b[0;32m    500\u001b[0m         \u001b[39mstr\u001b[39;49m(\u001b[39mself\u001b[39;49m\u001b[39m.\u001b[39;49msignature\u001b[39m.\u001b[39;49mname),\n\u001b[0;32m    501\u001b[0m         num_outputs\u001b[39m=\u001b[39;49m\u001b[39mself\u001b[39;49m\u001b[39m.\u001b[39;49m_num_outputs,\n\u001b[0;32m    502\u001b[0m         inputs\u001b[39m=\u001b[39;49margs,\n\u001b[0;32m    503\u001b[0m         attrs\u001b[39m=\u001b[39;49mattrs,\n\u001b[0;32m    504\u001b[0m         ctx\u001b[39m=\u001b[39;49mctx)\n\u001b[0;32m    505\u001b[0m   \u001b[39melse\u001b[39;00m:\n\u001b[0;32m    506\u001b[0m     outputs \u001b[39m=\u001b[39m execute\u001b[39m.\u001b[39mexecute_with_cancellation(\n\u001b[0;32m    507\u001b[0m         \u001b[39mstr\u001b[39m(\u001b[39mself\u001b[39m\u001b[39m.\u001b[39msignature\u001b[39m.\u001b[39mname),\n\u001b[0;32m    508\u001b[0m         num_outputs\u001b[39m=\u001b[39m\u001b[39mself\u001b[39m\u001b[39m.\u001b[39m_num_outputs,\n\u001b[1;32m   (...)\u001b[0m\n\u001b[0;32m    511\u001b[0m         ctx\u001b[39m=\u001b[39mctx,\n\u001b[0;32m    512\u001b[0m         cancellation_manager\u001b[39m=\u001b[39mcancellation_manager)\n",
      "File \u001b[1;32mc:\\Users\\kurtp\\anaconda3\\lib\\site-packages\\tensorflow\\python\\eager\\execute.py:54\u001b[0m, in \u001b[0;36mquick_execute\u001b[1;34m(op_name, num_outputs, inputs, attrs, ctx, name)\u001b[0m\n\u001b[0;32m     52\u001b[0m \u001b[39mtry\u001b[39;00m:\n\u001b[0;32m     53\u001b[0m   ctx\u001b[39m.\u001b[39mensure_initialized()\n\u001b[1;32m---> 54\u001b[0m   tensors \u001b[39m=\u001b[39m pywrap_tfe\u001b[39m.\u001b[39;49mTFE_Py_Execute(ctx\u001b[39m.\u001b[39;49m_handle, device_name, op_name,\n\u001b[0;32m     55\u001b[0m                                       inputs, attrs, num_outputs)\n\u001b[0;32m     56\u001b[0m \u001b[39mexcept\u001b[39;00m core\u001b[39m.\u001b[39m_NotOkStatusException \u001b[39mas\u001b[39;00m e:\n\u001b[0;32m     57\u001b[0m   \u001b[39mif\u001b[39;00m name \u001b[39mis\u001b[39;00m \u001b[39mnot\u001b[39;00m \u001b[39mNone\u001b[39;00m:\n",
      "\u001b[1;31mKeyboardInterrupt\u001b[0m: "
     ]
    }
   ],
   "source": [
    "\n",
    "# Create a ResNet-50 model\n",
    "model = ResNet50(input_shape=(32, 32, 3), num_classes=10)\n",
    "model.compile(optimizer='adam', loss='sparse_categorical_crossentropy', metrics=['accuracy'])\n",
    "#model.summary()\n",
    "\n",
    "# Define batch size and number of epochs\n",
    "batch_size = 64\n",
    "epochs = 10\n",
    "\n",
    "# Train the model\n",
    "model.fit(x_train, np.argmax(y_train, axis=1), batch_size=batch_size, epochs=epochs)\n",
    "\n",
    "# Evaluate the model\n",
    "test_loss, test_acc = model.evaluate(x_test, np.argmax(y_test, axis=1))\n",
    "print(f\"Test accuracy: {test_acc}\")\n"
   ]
  },
  {
   "cell_type": "code",
   "execution_count": 19,
   "metadata": {},
   "outputs": [
    {
     "data": {
      "text/plain": [
       "array([9, 7, 0, ..., 9, 4, 7], dtype=int64)"
      ]
     },
     "execution_count": 19,
     "metadata": {},
     "output_type": "execute_result"
    }
   ],
   "source": [
    "np.argmax(y_train, axis=1)"
   ]
  },
  {
   "cell_type": "markdown",
   "metadata": {},
   "source": [
    "Total params: 20,637,416\n",
    "Trainable params: 20,623,208\n",
    "Non-trainable params: 14,208"
   ]
  }
 ],
 "metadata": {
  "kernelspec": {
   "display_name": "base",
   "language": "python",
   "name": "python3"
  },
  "language_info": {
   "codemirror_mode": {
    "name": "ipython",
    "version": 3
   },
   "file_extension": ".py",
   "mimetype": "text/x-python",
   "name": "python",
   "nbconvert_exporter": "python",
   "pygments_lexer": "ipython3",
   "version": "3.10.9"
  }
 },
 "nbformat": 4,
 "nbformat_minor": 2
}
