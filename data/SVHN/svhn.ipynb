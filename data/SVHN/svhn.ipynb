{
 "cells": [
  {
   "cell_type": "code",
   "execution_count": 15,
   "metadata": {},
   "outputs": [],
   "source": [
    "from scipy.io import loadmat, savemat\n",
    "import numpy as np"
   ]
  },
  {
   "cell_type": "code",
   "execution_count": 30,
   "metadata": {},
   "outputs": [
    {
     "name": "stdout",
     "output_type": "stream",
     "text": [
      "[0 1 2 3 4 5 6 7 8 9]\n"
     ]
    }
   ],
   "source": [
    "f = loadmat('train_32x32.mat')\n",
    "x_train = np.reshape(f['X'], (32 * 32 * 3, f['X'].shape[3])).T\n",
    "y_train = np.subtract(np.squeeze(f['y']), 2)\n",
    "y_train[y_train==255] = 9\n",
    "print(np.unique(y_train))"
   ]
  },
  {
   "cell_type": "code",
   "execution_count": 31,
   "metadata": {},
   "outputs": [
    {
     "name": "stdout",
     "output_type": "stream",
     "text": [
      "[0 1 2 3 4 5 6 7 8 9]\n"
     ]
    }
   ],
   "source": [
    "f = loadmat('test_32x32.mat')\n",
    "x_test = np.reshape(f['X'], (32 * 32 * 3, f['X'].shape[3])).T\n",
    "y_test = np.subtract(np.squeeze(f['y']), 2)\n",
    "y_test[y_test==255] = 9\n",
    "print(np.unique(y_test))"
   ]
  },
  {
   "cell_type": "code",
   "execution_count": 22,
   "metadata": {},
   "outputs": [
    {
     "data": {
      "text/plain": [
       "(26032, 3072)"
      ]
     },
     "execution_count": 22,
     "metadata": {},
     "output_type": "execute_result"
    }
   ],
   "source": [
    "x_test.shape"
   ]
  },
  {
   "cell_type": "code",
   "execution_count": 44,
   "metadata": {},
   "outputs": [
    {
     "name": "stdout",
     "output_type": "stream",
     "text": [
      "0 (1878, 3072) (1370, 3072)\n",
      "1 (3756, 3072) (2740, 3072)\n",
      "2 (5634, 3072) (4110, 3072)\n",
      "3 (7512, 3072) (5480, 3072)\n",
      "4 (9390, 3072) (6850, 3072)\n",
      "5 (11268, 3072) (8220, 3072)\n",
      "6 (13146, 3072) (9590, 3072)\n",
      "7 (15024, 3072) (10960, 3072)\n",
      "8 (16902, 3072) (12330, 3072)\n",
      "9 (18780, 3072) (13700, 3072)\n",
      "10 (20658, 3072) (15070, 3072)\n",
      "11 (22536, 3072) (16440, 3072)\n",
      "12 (24414, 3072) (17810, 3072)\n",
      "13 (26292, 3072) (19180, 3072)\n",
      "14 (28170, 3072) (20550, 3072)\n",
      "15 (30048, 3072) (21920, 3072)\n",
      "16 (31926, 3072) (23290, 3072)\n",
      "17 (33804, 3072) (24660, 3072)\n",
      "18 (35682, 3072) (26030, 3072)\n",
      "19 (37560, 3072) (26032, 3072)\n",
      "20 (39438, 3072) (26032, 3072)\n",
      "21 (41316, 3072) (26032, 3072)\n",
      "22 (43194, 3072) (26032, 3072)\n",
      "23 (45072, 3072) (26032, 3072)\n",
      "24 (46950, 3072) (26032, 3072)\n",
      "25 (48828, 3072) (26032, 3072)\n",
      "26 (50706, 3072) (26032, 3072)\n",
      "27 (52584, 3072) (26032, 3072)\n",
      "28 (54462, 3072) (26032, 3072)\n",
      "29 (56340, 3072) (26032, 3072)\n",
      "30 (58218, 3072) (26032, 3072)\n",
      "31 (60096, 3072) (26032, 3072)\n",
      "32 (61974, 3072) (26032, 3072)\n",
      "33 (63852, 3072) (26032, 3072)\n",
      "34 (65730, 3072) (26032, 3072)\n",
      "35 (67608, 3072) (26032, 3072)\n",
      "36 (69486, 3072) (26032, 3072)\n",
      "37 (71364, 3072) (26032, 3072)\n",
      "38 (73242, 3072) (26032, 3072)\n",
      "39 (73257, 3072) (26032, 3072)\n"
     ]
    }
   ],
   "source": [
    "for i in range(40):\n",
    "    path_train = f'SVHN_x_train{i}.npy'\n",
    "    path_test = f'SVHN_x_test{i}.npy'\n",
    "    if i == 0:\n",
    "        x_train = np.load(path_train)\n",
    "        x_test = np.load(path_test)\n",
    "    elif i < 20:\n",
    "        x_train = np.concatenate((x_train, np.load(path_train)))\n",
    "        x_test = np.concatenate((x_test, np.load(path_test)))\n",
    "    else:\n",
    "        x_train = np.concatenate((x_train, np.load(path_train)))\n",
    "    print(i, x_train.shape, x_test.shape)"
   ]
  },
  {
   "cell_type": "code",
   "execution_count": 42,
   "metadata": {},
   "outputs": [
    {
     "name": "stdout",
     "output_type": "stream",
     "text": [
      "(73257, 3072)\n",
      "0 1878\n",
      "1878 (1878, 3072)\n",
      "1878 3756\n",
      "1878 (1878, 3072)\n",
      "3756 5634\n",
      "1878 (1878, 3072)\n",
      "5634 7512\n",
      "1878 (1878, 3072)\n",
      "7512 9390\n",
      "1878 (1878, 3072)\n",
      "9390 11268\n",
      "1878 (1878, 3072)\n",
      "11268 13146\n",
      "1878 (1878, 3072)\n",
      "13146 15024\n",
      "1878 (1878, 3072)\n",
      "15024 16902\n",
      "1878 (1878, 3072)\n",
      "16902 18780\n",
      "1878 (1878, 3072)\n",
      "18780 20658\n",
      "1878 (1878, 3072)\n",
      "20658 22536\n",
      "1878 (1878, 3072)\n",
      "22536 24414\n",
      "1878 (1878, 3072)\n",
      "24414 26292\n",
      "1878 (1878, 3072)\n",
      "26292 28170\n",
      "1878 (1878, 3072)\n",
      "28170 30048\n",
      "1878 (1878, 3072)\n",
      "30048 31926\n",
      "1878 (1878, 3072)\n",
      "31926 33804\n",
      "1878 (1878, 3072)\n",
      "33804 35682\n",
      "1878 (1878, 3072)\n",
      "35682 37560\n",
      "1878 (1878, 3072)\n",
      "37560 39438\n",
      "1878 (1878, 3072)\n",
      "39438 41316\n",
      "1878 (1878, 3072)\n",
      "41316 43194\n",
      "1878 (1878, 3072)\n",
      "43194 45072\n",
      "1878 (1878, 3072)\n",
      "45072 46950\n",
      "1878 (1878, 3072)\n",
      "46950 48828\n",
      "1878 (1878, 3072)\n",
      "48828 50706\n",
      "1878 (1878, 3072)\n",
      "50706 52584\n",
      "1878 (1878, 3072)\n",
      "52584 54462\n",
      "1878 (1878, 3072)\n",
      "54462 56340\n",
      "1878 (1878, 3072)\n",
      "56340 58218\n",
      "1878 (1878, 3072)\n",
      "58218 60096\n",
      "1878 (1878, 3072)\n",
      "60096 61974\n",
      "1878 (1878, 3072)\n",
      "61974 63852\n",
      "1878 (1878, 3072)\n",
      "63852 65730\n",
      "1878 (1878, 3072)\n",
      "65730 67608\n",
      "1878 (1878, 3072)\n",
      "67608 69486\n",
      "1878 (1878, 3072)\n",
      "69486 71364\n",
      "1878 (1878, 3072)\n",
      "71364 73242\n",
      "1878 (1878, 3072)\n",
      "73242 73257\n",
      "15 (15, 3072)\n",
      "(26032, 3072)\n",
      "0 1370\n",
      "1370 (1370, 3072)\n",
      "1370 2740\n",
      "1370 (1370, 3072)\n",
      "2740 4110\n",
      "1370 (1370, 3072)\n",
      "4110 5480\n",
      "1370 (1370, 3072)\n",
      "5480 6850\n",
      "1370 (1370, 3072)\n",
      "6850 8220\n",
      "1370 (1370, 3072)\n",
      "8220 9590\n",
      "1370 (1370, 3072)\n",
      "9590 10960\n",
      "1370 (1370, 3072)\n",
      "10960 12330\n",
      "1370 (1370, 3072)\n",
      "12330 13700\n",
      "1370 (1370, 3072)\n",
      "13700 15070\n",
      "1370 (1370, 3072)\n",
      "15070 16440\n",
      "1370 (1370, 3072)\n",
      "16440 17810\n",
      "1370 (1370, 3072)\n",
      "17810 19180\n",
      "1370 (1370, 3072)\n",
      "19180 20550\n",
      "1370 (1370, 3072)\n",
      "20550 21920\n",
      "1370 (1370, 3072)\n",
      "21920 23290\n",
      "1370 (1370, 3072)\n",
      "23290 24660\n",
      "1370 (1370, 3072)\n",
      "24660 26030\n",
      "1370 (1370, 3072)\n",
      "26030 26032\n",
      "2 (2, 3072)\n"
     ]
    }
   ],
   "source": [
    "#np.save('SVHN_y_train.npy', y_train)\n",
    "#np.save('SVHN_y_test.npy', y_test)\n",
    "\n",
    "print(x_train.shape)\n",
    "batches = 40\n",
    "total = x_train.shape[0]\n",
    "batch_size = round(total/(batches-1),0)\n",
    "for i in range(batches):\n",
    "    first = int(i*batch_size)\n",
    "    last = int(min((i+1)*batch_size, total))\n",
    "    print(first, last)\n",
    "    file = f'SVHN_x_train{i}.npy'\n",
    "    this_x = x_train[first:last]\n",
    "    print(last - first, this_x.shape)\n",
    "    np.save(file, this_x)\n",
    "\n",
    "print(x_test.shape)\n",
    "batches = 20\n",
    "total = x_test.shape[0]\n",
    "batch_size = round(total/(batches-1),0)\n",
    "for i in range(batches):\n",
    "    first = int(i*batch_size)\n",
    "    last = int(min((i+1)*batch_size, total))\n",
    "    print(first, last)\n",
    "    file = f'SVHN_x_test{i}.npy'\n",
    "    this_x = x_test[first:last]\n",
    "    print(last - first, this_x.shape)\n",
    "    np.save(file, this_x)"
   ]
  },
  {
   "cell_type": "code",
   "execution_count": 43,
   "metadata": {},
   "outputs": [
    {
     "data": {
      "text/plain": [
       "73257"
      ]
     },
     "execution_count": 43,
     "metadata": {},
     "output_type": "execute_result"
    }
   ],
   "source": [
    "1878*39 + 15"
   ]
  },
  {
   "cell_type": "code",
   "execution_count": 41,
   "metadata": {},
   "outputs": [
    {
     "data": {
      "text/plain": [
       "array([[190, 188, 191, ..., 218, 213, 209],\n",
       "       [216, 217, 212, ..., 181, 178, 171]], dtype=uint8)"
      ]
     },
     "execution_count": 41,
     "metadata": {},
     "output_type": "execute_result"
    }
   ],
   "source": [
    "x_train[73255:73257]"
   ]
  }
 ],
 "metadata": {
  "kernelspec": {
   "display_name": "base",
   "language": "python",
   "name": "python3"
  },
  "language_info": {
   "codemirror_mode": {
    "name": "ipython",
    "version": 3
   },
   "file_extension": ".py",
   "mimetype": "text/x-python",
   "name": "python",
   "nbconvert_exporter": "python",
   "pygments_lexer": "ipython3",
   "version": "3.10.9"
  },
  "orig_nbformat": 4
 },
 "nbformat": 4,
 "nbformat_minor": 2
}
