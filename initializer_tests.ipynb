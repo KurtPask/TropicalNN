{
 "cells": [
  {
   "cell_type": "code",
   "execution_count": 5,
   "metadata": {},
   "outputs": [],
   "source": [
    "from functions.load_data import load_CIFAR_data, load_Google_Digit_Data, load_MNIST_data, shuffle_data\n",
    "from functions.attacks import attackTestSet, attackTestSetBatch\n",
    "from functions.models import simple_relu_model, simple_tropical_model\n",
    "from custom_layers.initializers import BimodalBinaryInitializer, BimodalNormalInitializer, Triangular\n",
    "from tensorflow.keras import losses, initializers\n",
    "import pandas as pd\n",
    "import numpy as np\n",
    "import matplotlib.pyplot as plt\n",
    "import csv\n",
    "import os\n",
    "os.environ[\"KMP_DUPLICATE_LIB_OK\"]=\"TRUE\""
   ]
  },
  {
   "cell_type": "code",
   "execution_count": 6,
   "metadata": {},
   "outputs": [],
   "source": [
    "x_train, x_test, y_train, y_test = load_MNIST_data(desired_classes=[i for i in range(10)])"
   ]
  },
  {
   "cell_type": "code",
   "execution_count": 4,
   "metadata": {},
   "outputs": [
    {
     "data": {
      "text/plain": [
       "784"
      ]
     },
     "execution_count": 4,
     "metadata": {},
     "output_type": "execute_result"
    }
   ],
   "source": [
    "x_train.shape[1]"
   ]
  },
  {
   "cell_type": "code",
   "execution_count": 7,
   "metadata": {},
   "outputs": [
    {
     "name": "stdout",
     "output_type": "stream",
     "text": [
      "Epoch 1/10\n",
      "1875/1875 [==============================] - 128s 67ms/step - loss: 248.8247 - accuracy: 0.3524\n",
      "Epoch 2/10\n",
      "1875/1875 [==============================] - 138s 73ms/step - loss: 107.0418 - accuracy: 0.5086\n",
      "Epoch 3/10\n",
      "1875/1875 [==============================] - 145s 77ms/step - loss: 95.6516 - accuracy: 0.5640\n",
      "Epoch 4/10\n",
      "1875/1875 [==============================] - 131s 70ms/step - loss: 106.4871 - accuracy: 0.5721\n",
      "Epoch 5/10\n",
      "1875/1875 [==============================] - 127s 68ms/step - loss: 89.8769 - accuracy: 0.6223\n",
      "Epoch 6/10\n",
      " 172/1875 [=>............................] - ETA: 1:53 - loss: 92.9014 - accuracy: 0.6237"
     ]
    },
    {
     "ename": "KeyboardInterrupt",
     "evalue": "",
     "output_type": "error",
     "traceback": [
      "\u001b[1;31m---------------------------------------------------------------------------\u001b[0m",
      "\u001b[1;31mKeyboardInterrupt\u001b[0m                         Traceback (most recent call last)",
      "\u001b[1;32mc:\\Users\\kurtp\\OneDrive - Naval Postgraduate School\\Desktop\\NPS School Work\\Thesis\\TropicalNN\\initializer_tests.ipynb Cell 4\u001b[0m line \u001b[0;36m1\n\u001b[1;32m----> <a href='vscode-notebook-cell:/c%3A/Users/kurtp/OneDrive%20-%20Naval%20Postgraduate%20School/Desktop/NPS%20School%20Work/Thesis/TropicalNN/initializer_tests.ipynb#W2sZmlsZQ%3D%3D?line=0'>1</a>\u001b[0m built_model \u001b[39m=\u001b[39m simple_tropical_model(x_train, y_train,  \n\u001b[0;32m      <a href='vscode-notebook-cell:/c%3A/Users/kurtp/OneDrive%20-%20Naval%20Postgraduate%20School/Desktop/NPS%20School%20Work/Thesis/TropicalNN/initializer_tests.ipynb#W2sZmlsZQ%3D%3D?line=1'>2</a>\u001b[0m                                     first_layer_size \u001b[39m=\u001b[39;49m x_train\u001b[39m.\u001b[39;49mshape[\u001b[39m1\u001b[39;49m],  \n\u001b[0;32m      <a href='vscode-notebook-cell:/c%3A/Users/kurtp/OneDrive%20-%20Naval%20Postgraduate%20School/Desktop/NPS%20School%20Work/Thesis/TropicalNN/initializer_tests.ipynb#W2sZmlsZQ%3D%3D?line=2'>3</a>\u001b[0m                                     verbose \u001b[39m=\u001b[39;49m \u001b[39m1\u001b[39;49m, lam\u001b[39m=\u001b[39;49m\u001b[39m0.0\u001b[39;49m, \n\u001b[0;32m      <a href='vscode-notebook-cell:/c%3A/Users/kurtp/OneDrive%20-%20Naval%20Postgraduate%20School/Desktop/NPS%20School%20Work/Thesis/TropicalNN/initializer_tests.ipynb#W2sZmlsZQ%3D%3D?line=3'>4</a>\u001b[0m                                     initializer_w\u001b[39m=\u001b[39;49mBimodalNormalInitializer(stddev\u001b[39m=\u001b[39;49m\u001b[39m1\u001b[39;49m,high\u001b[39m=\u001b[39;49m\u001b[39m5.5\u001b[39;49m, low\u001b[39m=\u001b[39;49m\u001b[39m-\u001b[39;49m\u001b[39m4.5\u001b[39;49m),\n\u001b[0;32m      <a href='vscode-notebook-cell:/c%3A/Users/kurtp/OneDrive%20-%20Naval%20Postgraduate%20School/Desktop/NPS%20School%20Work/Thesis/TropicalNN/initializer_tests.ipynb#W2sZmlsZQ%3D%3D?line=4'>5</a>\u001b[0m                                     second_layer_size \u001b[39m=\u001b[39;49m \u001b[39m10\u001b[39;49m,\n\u001b[0;32m      <a href='vscode-notebook-cell:/c%3A/Users/kurtp/OneDrive%20-%20Naval%20Postgraduate%20School/Desktop/NPS%20School%20Work/Thesis/TropicalNN/initializer_tests.ipynb#W2sZmlsZQ%3D%3D?line=5'>6</a>\u001b[0m                                     second_layer_activation \u001b[39m=\u001b[39;49m \u001b[39m'\u001b[39;49m\u001b[39msoftmax\u001b[39;49m\u001b[39m'\u001b[39;49m, \n\u001b[0;32m      <a href='vscode-notebook-cell:/c%3A/Users/kurtp/OneDrive%20-%20Naval%20Postgraduate%20School/Desktop/NPS%20School%20Work/Thesis/TropicalNN/initializer_tests.ipynb#W2sZmlsZQ%3D%3D?line=6'>7</a>\u001b[0m                                     training_loss \u001b[39m=\u001b[39;49m \u001b[39m'\u001b[39;49m\u001b[39mcategorical_crossentropy\u001b[39;49m\u001b[39m'\u001b[39;49m)\n\u001b[0;32m      <a href='vscode-notebook-cell:/c%3A/Users/kurtp/OneDrive%20-%20Naval%20Postgraduate%20School/Desktop/NPS%20School%20Work/Thesis/TropicalNN/initializer_tests.ipynb#W2sZmlsZQ%3D%3D?line=7'>8</a>\u001b[0m pre_loss, pre_acc \u001b[39m=\u001b[39m built_model\u001b[39m.\u001b[39mevaluate(x_test, y_test)\n",
      "File \u001b[1;32mc:\\Users\\kurtp\\OneDrive - Naval Postgraduate School\\Desktop\\NPS School Work\\Thesis\\TropicalNN\\functions\\models.py:52\u001b[0m, in \u001b[0;36msimple_tropical_model\u001b[1;34m(x_train, y_train, num_epochs, first_layer_size, verbose, initializer_w, second_layer_size, second_layer_activation, clipnorm, clipvalue, training_loss, lam)\u001b[0m\n\u001b[0;32m     49\u001b[0m model \u001b[39m=\u001b[39m Sequential([TropEmbedMaxMin(first_layer_size, num_predictors, initializer_w \u001b[39m=\u001b[39m initializer_w, lam\u001b[39m=\u001b[39mlam),\n\u001b[0;32m     50\u001b[0m                     Dense(second_layer_size, activation\u001b[39m=\u001b[39msecond_layer_activation,  kernel_initializer\u001b[39m=\u001b[39minitializer_out)])\n\u001b[0;32m     51\u001b[0m model\u001b[39m.\u001b[39mcompile(optimizer\u001b[39m=\u001b[39mAdam(\u001b[39m0.1\u001b[39m, clipnorm\u001b[39m=\u001b[39mclipnorm, clipvalue\u001b[39m=\u001b[39mclipvalue), loss\u001b[39m=\u001b[39mtraining_loss, metrics\u001b[39m=\u001b[39m[\u001b[39m'\u001b[39m\u001b[39maccuracy\u001b[39m\u001b[39m'\u001b[39m])\n\u001b[1;32m---> 52\u001b[0m model\u001b[39m.\u001b[39;49mfit(x_train, y_train, epochs\u001b[39m=\u001b[39;49mnum_epochs, verbose\u001b[39m=\u001b[39;49mverbose)\n\u001b[0;32m     53\u001b[0m end_time \u001b[39m=\u001b[39m time\u001b[39m.\u001b[39mtime()\n\u001b[0;32m     54\u001b[0m elapsed_time \u001b[39m=\u001b[39m end_time \u001b[39m-\u001b[39m start_time\n",
      "File \u001b[1;32mc:\\Users\\kurtp\\anaconda3\\lib\\site-packages\\keras\\utils\\traceback_utils.py:65\u001b[0m, in \u001b[0;36mfilter_traceback.<locals>.error_handler\u001b[1;34m(*args, **kwargs)\u001b[0m\n\u001b[0;32m     63\u001b[0m filtered_tb \u001b[39m=\u001b[39m \u001b[39mNone\u001b[39;00m\n\u001b[0;32m     64\u001b[0m \u001b[39mtry\u001b[39;00m:\n\u001b[1;32m---> 65\u001b[0m     \u001b[39mreturn\u001b[39;00m fn(\u001b[39m*\u001b[39margs, \u001b[39m*\u001b[39m\u001b[39m*\u001b[39mkwargs)\n\u001b[0;32m     66\u001b[0m \u001b[39mexcept\u001b[39;00m \u001b[39mException\u001b[39;00m \u001b[39mas\u001b[39;00m e:\n\u001b[0;32m     67\u001b[0m     filtered_tb \u001b[39m=\u001b[39m _process_traceback_frames(e\u001b[39m.\u001b[39m__traceback__)\n",
      "File \u001b[1;32mc:\\Users\\kurtp\\anaconda3\\lib\\site-packages\\keras\\engine\\training.py:1564\u001b[0m, in \u001b[0;36mModel.fit\u001b[1;34m(self, x, y, batch_size, epochs, verbose, callbacks, validation_split, validation_data, shuffle, class_weight, sample_weight, initial_epoch, steps_per_epoch, validation_steps, validation_batch_size, validation_freq, max_queue_size, workers, use_multiprocessing)\u001b[0m\n\u001b[0;32m   1556\u001b[0m \u001b[39mwith\u001b[39;00m tf\u001b[39m.\u001b[39mprofiler\u001b[39m.\u001b[39mexperimental\u001b[39m.\u001b[39mTrace(\n\u001b[0;32m   1557\u001b[0m     \u001b[39m\"\u001b[39m\u001b[39mtrain\u001b[39m\u001b[39m\"\u001b[39m,\n\u001b[0;32m   1558\u001b[0m     epoch_num\u001b[39m=\u001b[39mepoch,\n\u001b[1;32m   (...)\u001b[0m\n\u001b[0;32m   1561\u001b[0m     _r\u001b[39m=\u001b[39m\u001b[39m1\u001b[39m,\n\u001b[0;32m   1562\u001b[0m ):\n\u001b[0;32m   1563\u001b[0m     callbacks\u001b[39m.\u001b[39mon_train_batch_begin(step)\n\u001b[1;32m-> 1564\u001b[0m     tmp_logs \u001b[39m=\u001b[39m \u001b[39mself\u001b[39;49m\u001b[39m.\u001b[39;49mtrain_function(iterator)\n\u001b[0;32m   1565\u001b[0m     \u001b[39mif\u001b[39;00m data_handler\u001b[39m.\u001b[39mshould_sync:\n\u001b[0;32m   1566\u001b[0m         context\u001b[39m.\u001b[39masync_wait()\n",
      "File \u001b[1;32mc:\\Users\\kurtp\\anaconda3\\lib\\site-packages\\tensorflow\\python\\util\\traceback_utils.py:150\u001b[0m, in \u001b[0;36mfilter_traceback.<locals>.error_handler\u001b[1;34m(*args, **kwargs)\u001b[0m\n\u001b[0;32m    148\u001b[0m filtered_tb \u001b[39m=\u001b[39m \u001b[39mNone\u001b[39;00m\n\u001b[0;32m    149\u001b[0m \u001b[39mtry\u001b[39;00m:\n\u001b[1;32m--> 150\u001b[0m   \u001b[39mreturn\u001b[39;00m fn(\u001b[39m*\u001b[39margs, \u001b[39m*\u001b[39m\u001b[39m*\u001b[39mkwargs)\n\u001b[0;32m    151\u001b[0m \u001b[39mexcept\u001b[39;00m \u001b[39mException\u001b[39;00m \u001b[39mas\u001b[39;00m e:\n\u001b[0;32m    152\u001b[0m   filtered_tb \u001b[39m=\u001b[39m _process_traceback_frames(e\u001b[39m.\u001b[39m__traceback__)\n",
      "File \u001b[1;32mc:\\Users\\kurtp\\anaconda3\\lib\\site-packages\\tensorflow\\python\\eager\\def_function.py:915\u001b[0m, in \u001b[0;36mFunction.__call__\u001b[1;34m(self, *args, **kwds)\u001b[0m\n\u001b[0;32m    912\u001b[0m compiler \u001b[39m=\u001b[39m \u001b[39m\"\u001b[39m\u001b[39mxla\u001b[39m\u001b[39m\"\u001b[39m \u001b[39mif\u001b[39;00m \u001b[39mself\u001b[39m\u001b[39m.\u001b[39m_jit_compile \u001b[39melse\u001b[39;00m \u001b[39m\"\u001b[39m\u001b[39mnonXla\u001b[39m\u001b[39m\"\u001b[39m\n\u001b[0;32m    914\u001b[0m \u001b[39mwith\u001b[39;00m OptionalXlaContext(\u001b[39mself\u001b[39m\u001b[39m.\u001b[39m_jit_compile):\n\u001b[1;32m--> 915\u001b[0m   result \u001b[39m=\u001b[39m \u001b[39mself\u001b[39m\u001b[39m.\u001b[39m_call(\u001b[39m*\u001b[39margs, \u001b[39m*\u001b[39m\u001b[39m*\u001b[39mkwds)\n\u001b[0;32m    917\u001b[0m new_tracing_count \u001b[39m=\u001b[39m \u001b[39mself\u001b[39m\u001b[39m.\u001b[39mexperimental_get_tracing_count()\n\u001b[0;32m    918\u001b[0m without_tracing \u001b[39m=\u001b[39m (tracing_count \u001b[39m==\u001b[39m new_tracing_count)\n",
      "File \u001b[1;32mc:\\Users\\kurtp\\anaconda3\\lib\\site-packages\\tensorflow\\python\\eager\\def_function.py:947\u001b[0m, in \u001b[0;36mFunction._call\u001b[1;34m(self, *args, **kwds)\u001b[0m\n\u001b[0;32m    944\u001b[0m   \u001b[39mself\u001b[39m\u001b[39m.\u001b[39m_lock\u001b[39m.\u001b[39mrelease()\n\u001b[0;32m    945\u001b[0m   \u001b[39m# In this case we have created variables on the first call, so we run the\u001b[39;00m\n\u001b[0;32m    946\u001b[0m   \u001b[39m# defunned version which is guaranteed to never create variables.\u001b[39;00m\n\u001b[1;32m--> 947\u001b[0m   \u001b[39mreturn\u001b[39;00m \u001b[39mself\u001b[39m\u001b[39m.\u001b[39m_stateless_fn(\u001b[39m*\u001b[39margs, \u001b[39m*\u001b[39m\u001b[39m*\u001b[39mkwds)  \u001b[39m# pylint: disable=not-callable\u001b[39;00m\n\u001b[0;32m    948\u001b[0m \u001b[39melif\u001b[39;00m \u001b[39mself\u001b[39m\u001b[39m.\u001b[39m_stateful_fn \u001b[39mis\u001b[39;00m \u001b[39mnot\u001b[39;00m \u001b[39mNone\u001b[39;00m:\n\u001b[0;32m    949\u001b[0m   \u001b[39m# Release the lock early so that multiple threads can perform the call\u001b[39;00m\n\u001b[0;32m    950\u001b[0m   \u001b[39m# in parallel.\u001b[39;00m\n\u001b[0;32m    951\u001b[0m   \u001b[39mself\u001b[39m\u001b[39m.\u001b[39m_lock\u001b[39m.\u001b[39mrelease()\n",
      "File \u001b[1;32mc:\\Users\\kurtp\\anaconda3\\lib\\site-packages\\tensorflow\\python\\eager\\function.py:2496\u001b[0m, in \u001b[0;36mFunction.__call__\u001b[1;34m(self, *args, **kwargs)\u001b[0m\n\u001b[0;32m   2493\u001b[0m \u001b[39mwith\u001b[39;00m \u001b[39mself\u001b[39m\u001b[39m.\u001b[39m_lock:\n\u001b[0;32m   2494\u001b[0m   (graph_function,\n\u001b[0;32m   2495\u001b[0m    filtered_flat_args) \u001b[39m=\u001b[39m \u001b[39mself\u001b[39m\u001b[39m.\u001b[39m_maybe_define_function(args, kwargs)\n\u001b[1;32m-> 2496\u001b[0m \u001b[39mreturn\u001b[39;00m graph_function\u001b[39m.\u001b[39;49m_call_flat(\n\u001b[0;32m   2497\u001b[0m     filtered_flat_args, captured_inputs\u001b[39m=\u001b[39;49mgraph_function\u001b[39m.\u001b[39;49mcaptured_inputs)\n",
      "File \u001b[1;32mc:\\Users\\kurtp\\anaconda3\\lib\\site-packages\\tensorflow\\python\\eager\\function.py:1862\u001b[0m, in \u001b[0;36mConcreteFunction._call_flat\u001b[1;34m(self, args, captured_inputs, cancellation_manager)\u001b[0m\n\u001b[0;32m   1858\u001b[0m possible_gradient_type \u001b[39m=\u001b[39m gradients_util\u001b[39m.\u001b[39mPossibleTapeGradientTypes(args)\n\u001b[0;32m   1859\u001b[0m \u001b[39mif\u001b[39;00m (possible_gradient_type \u001b[39m==\u001b[39m gradients_util\u001b[39m.\u001b[39mPOSSIBLE_GRADIENT_TYPES_NONE\n\u001b[0;32m   1860\u001b[0m     \u001b[39mand\u001b[39;00m executing_eagerly):\n\u001b[0;32m   1861\u001b[0m   \u001b[39m# No tape is watching; skip to running the function.\u001b[39;00m\n\u001b[1;32m-> 1862\u001b[0m   \u001b[39mreturn\u001b[39;00m \u001b[39mself\u001b[39m\u001b[39m.\u001b[39m_build_call_outputs(\u001b[39mself\u001b[39;49m\u001b[39m.\u001b[39;49m_inference_function\u001b[39m.\u001b[39;49mcall(\n\u001b[0;32m   1863\u001b[0m       ctx, args, cancellation_manager\u001b[39m=\u001b[39;49mcancellation_manager))\n\u001b[0;32m   1864\u001b[0m forward_backward \u001b[39m=\u001b[39m \u001b[39mself\u001b[39m\u001b[39m.\u001b[39m_select_forward_and_backward_functions(\n\u001b[0;32m   1865\u001b[0m     args,\n\u001b[0;32m   1866\u001b[0m     possible_gradient_type,\n\u001b[0;32m   1867\u001b[0m     executing_eagerly)\n\u001b[0;32m   1868\u001b[0m forward_function, args_with_tangents \u001b[39m=\u001b[39m forward_backward\u001b[39m.\u001b[39mforward()\n",
      "File \u001b[1;32mc:\\Users\\kurtp\\anaconda3\\lib\\site-packages\\tensorflow\\python\\eager\\function.py:499\u001b[0m, in \u001b[0;36m_EagerDefinedFunction.call\u001b[1;34m(self, ctx, args, cancellation_manager)\u001b[0m\n\u001b[0;32m    497\u001b[0m \u001b[39mwith\u001b[39;00m _InterpolateFunctionError(\u001b[39mself\u001b[39m):\n\u001b[0;32m    498\u001b[0m   \u001b[39mif\u001b[39;00m cancellation_manager \u001b[39mis\u001b[39;00m \u001b[39mNone\u001b[39;00m:\n\u001b[1;32m--> 499\u001b[0m     outputs \u001b[39m=\u001b[39m execute\u001b[39m.\u001b[39;49mexecute(\n\u001b[0;32m    500\u001b[0m         \u001b[39mstr\u001b[39;49m(\u001b[39mself\u001b[39;49m\u001b[39m.\u001b[39;49msignature\u001b[39m.\u001b[39;49mname),\n\u001b[0;32m    501\u001b[0m         num_outputs\u001b[39m=\u001b[39;49m\u001b[39mself\u001b[39;49m\u001b[39m.\u001b[39;49m_num_outputs,\n\u001b[0;32m    502\u001b[0m         inputs\u001b[39m=\u001b[39;49margs,\n\u001b[0;32m    503\u001b[0m         attrs\u001b[39m=\u001b[39;49mattrs,\n\u001b[0;32m    504\u001b[0m         ctx\u001b[39m=\u001b[39;49mctx)\n\u001b[0;32m    505\u001b[0m   \u001b[39melse\u001b[39;00m:\n\u001b[0;32m    506\u001b[0m     outputs \u001b[39m=\u001b[39m execute\u001b[39m.\u001b[39mexecute_with_cancellation(\n\u001b[0;32m    507\u001b[0m         \u001b[39mstr\u001b[39m(\u001b[39mself\u001b[39m\u001b[39m.\u001b[39msignature\u001b[39m.\u001b[39mname),\n\u001b[0;32m    508\u001b[0m         num_outputs\u001b[39m=\u001b[39m\u001b[39mself\u001b[39m\u001b[39m.\u001b[39m_num_outputs,\n\u001b[1;32m   (...)\u001b[0m\n\u001b[0;32m    511\u001b[0m         ctx\u001b[39m=\u001b[39mctx,\n\u001b[0;32m    512\u001b[0m         cancellation_manager\u001b[39m=\u001b[39mcancellation_manager)\n",
      "File \u001b[1;32mc:\\Users\\kurtp\\anaconda3\\lib\\site-packages\\tensorflow\\python\\eager\\execute.py:54\u001b[0m, in \u001b[0;36mquick_execute\u001b[1;34m(op_name, num_outputs, inputs, attrs, ctx, name)\u001b[0m\n\u001b[0;32m     52\u001b[0m \u001b[39mtry\u001b[39;00m:\n\u001b[0;32m     53\u001b[0m   ctx\u001b[39m.\u001b[39mensure_initialized()\n\u001b[1;32m---> 54\u001b[0m   tensors \u001b[39m=\u001b[39m pywrap_tfe\u001b[39m.\u001b[39;49mTFE_Py_Execute(ctx\u001b[39m.\u001b[39;49m_handle, device_name, op_name,\n\u001b[0;32m     55\u001b[0m                                       inputs, attrs, num_outputs)\n\u001b[0;32m     56\u001b[0m \u001b[39mexcept\u001b[39;00m core\u001b[39m.\u001b[39m_NotOkStatusException \u001b[39mas\u001b[39;00m e:\n\u001b[0;32m     57\u001b[0m   \u001b[39mif\u001b[39;00m name \u001b[39mis\u001b[39;00m \u001b[39mnot\u001b[39;00m \u001b[39mNone\u001b[39;00m:\n",
      "\u001b[1;31mKeyboardInterrupt\u001b[0m: "
     ]
    }
   ],
   "source": [
    "built_model = simple_tropical_model(x_train, y_train,  \n",
    "                                    first_layer_size = x_train.shape[1],  \n",
    "                                    verbose = 1, lam=0.0, \n",
    "                                    initializer_w=BimodalNormalInitializer(stddev=1,high=5.5, low=-4.5),\n",
    "                                    second_layer_size = 10,\n",
    "                                    second_layer_activation = 'softmax', \n",
    "                                    training_loss = 'categorical_crossentropy')\n",
    "pre_loss, pre_acc = built_model.evaluate(x_test, y_test) "
   ]
  },
  {
   "cell_type": "code",
   "execution_count": 7,
   "metadata": {},
   "outputs": [
    {
     "name": "stdout",
     "output_type": "stream",
     "text": [
      "Epoch 1/10\n",
      "1875/1875 [==============================] - 584s 310ms/step - loss: 1814.4735 - accuracy: 0.1940\n",
      "Epoch 2/10\n",
      "1875/1875 [==============================] - 583s 311ms/step - loss: 1623.5952 - accuracy: 0.2322\n",
      "Epoch 3/10\n",
      "1875/1875 [==============================] - 579s 309ms/step - loss: 1374.9575 - accuracy: 0.2608\n",
      "Epoch 4/10\n",
      "1875/1875 [==============================] - 586s 312ms/step - loss: 1222.0345 - accuracy: 0.2896\n",
      "Epoch 5/10\n",
      "1875/1875 [==============================] - 594s 317ms/step - loss: 1006.3735 - accuracy: 0.3307\n",
      "Epoch 6/10\n",
      "1875/1875 [==============================] - 945s 504ms/step - loss: 846.2693 - accuracy: 0.3620\n",
      "Epoch 7/10\n",
      "1875/1875 [==============================] - 947s 505ms/step - loss: 773.0780 - accuracy: 0.3867\n",
      "Epoch 8/10\n",
      "1875/1875 [==============================] - 923s 492ms/step - loss: 726.1490 - accuracy: 0.4037\n",
      "Epoch 9/10\n",
      "1875/1875 [==============================] - 894s 477ms/step - loss: 696.8973 - accuracy: 0.4139\n",
      "Epoch 10/10\n",
      "1875/1875 [==============================] - 921s 491ms/step - loss: 711.4391 - accuracy: 0.4117\n",
      "Tropical model built. Elapsed time: 7556.73 seconds | 125.95 minutes.\n"
     ]
    },
    {
     "ename": "NameError",
     "evalue": "name 'built_model' is not defined",
     "output_type": "error",
     "traceback": [
      "\u001b[1;31m---------------------------------------------------------------------------\u001b[0m",
      "\u001b[1;31mNameError\u001b[0m                                 Traceback (most recent call last)",
      "\u001b[1;32mc:\\Users\\kurtp\\OneDrive - Naval Postgraduate School\\Desktop\\NPS School Work\\Thesis\\TropicalNN\\initializer_tests.ipynb Cell 5\u001b[0m line \u001b[0;36m1\n\u001b[0;32m      <a href='vscode-notebook-cell:/c%3A/Users/kurtp/OneDrive%20-%20Naval%20Postgraduate%20School/Desktop/NPS%20School%20Work/Thesis/TropicalNN/initializer_tests.ipynb#W4sZmlsZQ%3D%3D?line=0'>1</a>\u001b[0m built_model1 \u001b[39m=\u001b[39m simple_tropical_model(x_train, y_train,  \n\u001b[0;32m      <a href='vscode-notebook-cell:/c%3A/Users/kurtp/OneDrive%20-%20Naval%20Postgraduate%20School/Desktop/NPS%20School%20Work/Thesis/TropicalNN/initializer_tests.ipynb#W4sZmlsZQ%3D%3D?line=1'>2</a>\u001b[0m                                     first_layer_size \u001b[39m=\u001b[39m \u001b[39m5\u001b[39m\u001b[39m*\u001b[39mx_train\u001b[39m.\u001b[39mshape[\u001b[39m1\u001b[39m],  \n\u001b[0;32m      <a href='vscode-notebook-cell:/c%3A/Users/kurtp/OneDrive%20-%20Naval%20Postgraduate%20School/Desktop/NPS%20School%20Work/Thesis/TropicalNN/initializer_tests.ipynb#W4sZmlsZQ%3D%3D?line=2'>3</a>\u001b[0m                                     verbose \u001b[39m=\u001b[39m \u001b[39m1\u001b[39m, lam\u001b[39m=\u001b[39m\u001b[39m0.0\u001b[39m, \n\u001b[1;32m   (...)\u001b[0m\n\u001b[0;32m      <a href='vscode-notebook-cell:/c%3A/Users/kurtp/OneDrive%20-%20Naval%20Postgraduate%20School/Desktop/NPS%20School%20Work/Thesis/TropicalNN/initializer_tests.ipynb#W4sZmlsZQ%3D%3D?line=7'>8</a>\u001b[0m                                     boo_dropout\u001b[39m=\u001b[39m\u001b[39mTrue\u001b[39;00m,\n\u001b[0;32m      <a href='vscode-notebook-cell:/c%3A/Users/kurtp/OneDrive%20-%20Naval%20Postgraduate%20School/Desktop/NPS%20School%20Work/Thesis/TropicalNN/initializer_tests.ipynb#W4sZmlsZQ%3D%3D?line=8'>9</a>\u001b[0m                                     p_dropout\u001b[39m=\u001b[39m\u001b[39m0.5\u001b[39m)\n\u001b[1;32m---> <a href='vscode-notebook-cell:/c%3A/Users/kurtp/OneDrive%20-%20Naval%20Postgraduate%20School/Desktop/NPS%20School%20Work/Thesis/TropicalNN/initializer_tests.ipynb#W4sZmlsZQ%3D%3D?line=9'>10</a>\u001b[0m pre_loss1, pre_acc1 \u001b[39m=\u001b[39m built_model\u001b[39m.\u001b[39mevaluate(x_test, y_test)\n",
      "\u001b[1;31mNameError\u001b[0m: name 'built_model' is not defined"
     ]
    }
   ],
   "source": [
    "built_model1 = simple_tropical_model(x_train, y_train,  \n",
    "                                    first_layer_size = 5*x_train.shape[1],  \n",
    "                                    verbose = 1, lam=0.0, \n",
    "                                    initializer_w=BimodalNormalInitializer(stddev=1,high=5.5, low=-4.5),\n",
    "                                    second_layer_size = 10,\n",
    "                                    second_layer_activation = 'softmax', \n",
    "                                    training_loss = 'categorical_crossentropy',\n",
    "                                    boo_dropout=True,\n",
    "                                    p_dropout=0.5)\n",
    "pre_loss1, pre_acc1 = built_model.evaluate(x_test, y_test)"
   ]
  },
  {
   "cell_type": "code",
   "execution_count": 9,
   "metadata": {},
   "outputs": [
    {
     "name": "stdout",
     "output_type": "stream",
     "text": [
      "313/313 [==============================] - 80s 251ms/step - loss: 187.5287 - accuracy: 0.6277\n"
     ]
    }
   ],
   "source": [
    "pre_loss1, pre_acc1 = built_model1.evaluate(x_test, y_test)"
   ]
  }
 ],
 "metadata": {
  "kernelspec": {
   "display_name": "base",
   "language": "python",
   "name": "python3"
  },
  "language_info": {
   "codemirror_mode": {
    "name": "ipython",
    "version": 3
   },
   "file_extension": ".py",
   "mimetype": "text/x-python",
   "name": "python",
   "nbconvert_exporter": "python",
   "pygments_lexer": "ipython3",
   "version": "3.10.9"
  }
 },
 "nbformat": 4,
 "nbformat_minor": 2
}
