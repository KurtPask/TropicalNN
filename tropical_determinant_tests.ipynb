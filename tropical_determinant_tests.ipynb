{
 "cells": [
  {
   "cell_type": "code",
   "execution_count": 3,
   "metadata": {},
   "outputs": [],
   "source": [
    "from scipy.optimize import linear_sum_assignment\n",
    "import numpy as np"
   ]
  },
  {
   "cell_type": "code",
   "execution_count": 4,
   "metadata": {},
   "outputs": [
    {
     "name": "stdout",
     "output_type": "stream",
     "text": [
      "[[ 5  1 17]\n",
      " [12  6 19]\n",
      " [ 3  2  7]] (3, 3)\n"
     ]
    }
   ],
   "source": [
    "my_arr = np.array([[5, 1, 17],[12, 6, 19], [3, 2, 7]])\n",
    "print(my_arr, my_arr.shape)"
   ]
  },
  {
   "cell_type": "code",
   "execution_count": 7,
   "metadata": {},
   "outputs": [
    {
     "name": "stdout",
     "output_type": "stream",
     "text": [
      "18\n",
      "31\n"
     ]
    }
   ],
   "source": [
    "row_ind, col_ind = linear_sum_assignment(my_arr)\n",
    "print(my_arr[row_ind, col_ind].sum())\n",
    "\n",
    "row_ind, col_ind = linear_sum_assignment(-my_arr)\n",
    "print(my_arr[row_ind, col_ind].sum())"
   ]
  }
 ],
 "metadata": {
  "kernelspec": {
   "display_name": "base",
   "language": "python",
   "name": "python3"
  },
  "language_info": {
   "codemirror_mode": {
    "name": "ipython",
    "version": 3
   },
   "file_extension": ".py",
   "mimetype": "text/x-python",
   "name": "python",
   "nbconvert_exporter": "python",
   "pygments_lexer": "ipython3",
   "version": "3.10.9"
  }
 },
 "nbformat": 4,
 "nbformat_minor": 2
}
