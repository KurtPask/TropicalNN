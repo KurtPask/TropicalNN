{
 "cells": [
  {
   "cell_type": "code",
   "execution_count": 4,
   "metadata": {},
   "outputs": [
    {
     "name": "stdout",
     "output_type": "stream",
     "text": [
      "Model: \"sequential_3\"\n",
      "_________________________________________________________________\n",
      " Layer (type)                Output Shape              Param #   \n",
      "=================================================================\n",
      " conv2d_9 (Conv2D)           (64, 30, 30, 32)          896       \n",
      "                                                                 \n",
      " max_pooling2d_6 (MaxPooling  (64, 15, 15, 32)         0         \n",
      " 2D)                                                             \n",
      "                                                                 \n",
      " conv2d_10 (Conv2D)          (64, 13, 13, 64)          18496     \n",
      "                                                                 \n",
      " max_pooling2d_7 (MaxPooling  (64, 6, 6, 64)           0         \n",
      " 2D)                                                             \n",
      "                                                                 \n",
      " conv2d_11 (Conv2D)          (64, 4, 4, 64)            36928     \n",
      "                                                                 \n",
      " flatten_3 (Flatten)         (64, 1024)                0         \n",
      "                                                                 \n",
      " dense_3 (Dense)             (64, 64)                  65600     \n",
      "                                                                 \n",
      " trop_embed_max_min_logits_3  (64, 10)                 650       \n",
      "  (TropEmbedMaxMinLogits)                                        \n",
      "                                                                 \n",
      "=================================================================\n",
      "Total params: 122,570\n",
      "Trainable params: 122,570\n",
      "Non-trainable params: 0\n",
      "_________________________________________________________________\n"
     ]
    }
   ],
   "source": [
    "\n",
    "from functions.load_data import load_CIFAR_data, load_MNIST_data\n",
    "from custom_layers.tropical_layers import TropEmbedMaxMin, TropConv2D, TropConv2DMax, TropEmbedMaxMinLogits\n",
    "from custom_layers.initializers import BimodalNormalInitializer\n",
    "from tensorflow.keras import Sequential, Model\n",
    "from tensorflow.keras.layers import Dense, MaxPooling2D, MaxPooling1D, AveragePooling1D, Activation, Flatten, Conv2D, Dropout, Input, BatchNormalization, ReLU, Add, GlobalAveragePooling2D, Reshape\n",
    "from tensorflow.keras.optimizers import Adam\n",
    "from tensorflow.keras import initializers\n",
    "import time\n",
    "\n",
    "\n",
    "\n",
    "def trop_conv3layer_logits(num_epochs = 10,\n",
    "                       batch_size = 64, \n",
    "                       verbose = 1,\n",
    "                       training_loss = 'categorical_crossentropy',\n",
    "                       num_first_filters = 32,\n",
    "                       window_first_conv = (3,3),\n",
    "                       initializer_w = initializers.RandomNormal(0, 0.05)):\n",
    "    start_time = time.time()\n",
    "    model = Sequential([Conv2D(num_first_filters, window_first_conv, activation='relu'),\n",
    "                        MaxPooling2D((2, 2)),                            \n",
    "                        Conv2D(64, (3, 3), activation='relu'),\n",
    "                        MaxPooling2D((2, 2)),                            \n",
    "                        Conv2D(64, (3, 3), activation='relu'),\n",
    "                        Flatten(),\n",
    "                        Dense(64, activation='relu'),\n",
    "                        TropEmbedMaxMinLogits(10, initializer_w=initializer_w)])\n",
    "    #model.compile(optimizer='adam', loss=training_loss, metrics=['accuracy'])\n",
    "    #model.fit(x_train, y_train, epochs=num_epochs,batch_size=batch_size, verbose=verbose)\n",
    "    model.build(input_shape=(64, 32,32,3))\n",
    "    model.summary()\n",
    "\n",
    "trop_conv3layer_logits()"
   ]
  },
  {
   "cell_type": "code",
   "execution_count": 6,
   "metadata": {},
   "outputs": [],
   "source": [
    "from custom_layers.tropical_layers import TropEmbedMaxMinLogits\n",
    "from custom_layers.initializers import BimodalNormalInitializer\n",
    "from functions.load_data import load_MNIST_data\n",
    "from functions.attacks import attackTestSetBatch\n",
    "from tensorflow.keras import Sequential, losses\n",
    "from tensorflow.keras.layers import Dense\n",
    "from tensorflow.keras.optimizers import Adam\n",
    "\n",
    "import os\n",
    "os.environ[\"KMP_DUPLICATE_LIB_OK\"]=\"TRUE\""
   ]
  },
  {
   "cell_type": "code",
   "execution_count": 2,
   "metadata": {},
   "outputs": [],
   "source": [
    "# -- load MNIST data -- \n",
    "x_train, x_test, y_train, y_test = load_MNIST_data(desired_classes=[i for i in range(10)])"
   ]
  },
  {
   "cell_type": "code",
   "execution_count": 3,
   "metadata": {},
   "outputs": [
    {
     "name": "stdout",
     "output_type": "stream",
     "text": [
      "Epoch 1/10\n",
      "938/938 [==============================] - 8s 5ms/step - loss: 1.8492 - accuracy: 0.4760\n",
      "Epoch 2/10\n",
      "938/938 [==============================] - 5s 5ms/step - loss: 1.8390 - accuracy: 0.4757\n",
      "Epoch 3/10\n",
      "938/938 [==============================] - 5s 5ms/step - loss: 1.8378 - accuracy: 0.4770\n",
      "Epoch 4/10\n",
      "938/938 [==============================] - 5s 5ms/step - loss: 1.8385 - accuracy: 0.4782\n",
      "Epoch 5/10\n",
      "938/938 [==============================] - 5s 6ms/step - loss: 1.8389 - accuracy: 0.4739\n",
      "Epoch 6/10\n",
      "938/938 [==============================] - 5s 5ms/step - loss: 1.8372 - accuracy: 0.4783\n",
      "Epoch 7/10\n",
      "938/938 [==============================] - 5s 5ms/step - loss: 1.8375 - accuracy: 0.4797\n",
      "Epoch 8/10\n",
      "938/938 [==============================] - 5s 5ms/step - loss: 1.8393 - accuracy: 0.4750\n",
      "Epoch 9/10\n",
      "938/938 [==============================] - 5s 5ms/step - loss: 1.8385 - accuracy: 0.4783\n",
      "Epoch 10/10\n",
      "938/938 [==============================] - 5s 5ms/step - loss: 1.8386 - accuracy: 0.4777\n"
     ]
    },
    {
     "data": {
      "text/plain": [
       "<keras.callbacks.History at 0x21880415fd0>"
      ]
     },
     "execution_count": 3,
     "metadata": {},
     "output_type": "execute_result"
    }
   ],
   "source": [
    "model = Sequential([TropEmbedMaxMinLogits(10, initializer_w=BimodalNormalInitializer(0.5, 5, -5, 0))])\n",
    "model.compile(optimizer=Adam(0.05),loss='categorical_crossentropy', metrics=['accuracy'])\n",
    "model.fit(x_train, y_train, epochs=10, batch_size=64, verbose=1)"
   ]
  },
  {
   "cell_type": "code",
   "execution_count": 4,
   "metadata": {},
   "outputs": [
    {
     "name": "stdout",
     "output_type": "stream",
     "text": [
      "Epoch 1/10\n",
      "938/938 [==============================] - 3s 2ms/step - loss: 1.1082 - accuracy: 0.8347\n",
      "Epoch 2/10\n",
      "938/938 [==============================] - 2s 2ms/step - loss: 1.2104 - accuracy: 0.8619\n",
      "Epoch 3/10\n",
      "938/938 [==============================] - 2s 2ms/step - loss: 1.3081 - accuracy: 0.8660\n",
      "Epoch 4/10\n",
      "938/938 [==============================] - 2s 2ms/step - loss: 1.2481 - accuracy: 0.8762\n",
      "Epoch 5/10\n",
      "938/938 [==============================] - 3s 3ms/step - loss: 1.2270 - accuracy: 0.8763\n",
      "Epoch 6/10\n",
      "938/938 [==============================] - 3s 3ms/step - loss: 1.2637 - accuracy: 0.8759\n",
      "Epoch 7/10\n",
      "938/938 [==============================] - 5s 5ms/step - loss: 1.2706 - accuracy: 0.8759\n",
      "Epoch 8/10\n",
      "938/938 [==============================] - 5s 5ms/step - loss: 1.2461 - accuracy: 0.8801\n",
      "Epoch 9/10\n",
      "938/938 [==============================] - 5s 5ms/step - loss: 1.2254 - accuracy: 0.8836\n",
      "Epoch 10/10\n",
      "938/938 [==============================] - 5s 6ms/step - loss: 1.2513 - accuracy: 0.8809\n"
     ]
    },
    {
     "data": {
      "text/plain": [
       "<keras.callbacks.History at 0x21881819a30>"
      ]
     },
     "execution_count": 4,
     "metadata": {},
     "output_type": "execute_result"
    }
   ],
   "source": [
    "relu_model = Sequential([Dense(10, activation='softmax')])\n",
    "relu_model.compile(optimizer=Adam(0.05),loss='categorical_crossentropy', metrics=['accuracy'])\n",
    "relu_model.fit(x_train, y_train, epochs=10, batch_size=64, verbose=1)"
   ]
  },
  {
   "cell_type": "code",
   "execution_count": 7,
   "metadata": {},
   "outputs": [
    {
     "name": "stdout",
     "output_type": "stream",
     "text": [
      "Tropical model 0% attacked.\n",
      "Tropical model 8% attacked.\n",
      "Tropical model 16% attacked.\n",
      "Tropical model 24% attacked.\n",
      "Tropical model 32% attacked.\n",
      "Tropical model 40% attacked.\n",
      "Tropical model 48% attacked.\n",
      "Tropical model 56% attacked.\n",
      "Tropical model 64% attacked.\n",
      "Tropical model 72% attacked.\n",
      "Tropical model 80% attacked.\n",
      "Tropical model 88% attacked.\n",
      "Tropical model 96% attacked.\n",
      "Tropical attack complete. Elapsed time: 254.04 seconds | 4.23 minutes.\n",
      "ReLU model 0% attacked.\n",
      "ReLU model 8% attacked.\n",
      "ReLU model 16% attacked.\n",
      "ReLU model 24% attacked.\n",
      "ReLU model 32% attacked.\n",
      "ReLU model 40% attacked.\n",
      "ReLU model 48% attacked.\n",
      "ReLU model 56% attacked.\n",
      "ReLU model 64% attacked.\n",
      "ReLU model 72% attacked.\n",
      "ReLU model 80% attacked.\n",
      "ReLU model 88% attacked.\n",
      "ReLU model 96% attacked.\n",
      "ReLU attack complete. Elapsed time: 163.89 seconds | 2.73 minutes.\n"
     ]
    }
   ],
   "source": [
    "trop_x_test_att = attackTestSetBatch(model, x_test, y_test,  epsilon=0.1, loss_object=losses.CategoricalCrossentropy(),modelName='Tropical', num_steps=20)\n",
    "relu_x_test_att = attackTestSetBatch(relu_model, x_test, y_test,  epsilon=0.1, loss_object=losses.CategoricalCrossentropy(),modelName='ReLU', num_steps=20)\n"
   ]
  },
  {
   "cell_type": "code",
   "execution_count": 8,
   "metadata": {},
   "outputs": [
    {
     "name": "stdout",
     "output_type": "stream",
     "text": [
      "313/313 [==============================] - 2s 5ms/step - loss: 1.8340 - accuracy: 0.4907\n",
      "313/313 [==============================] - 1s 3ms/step - loss: 2.0787 - accuracy: 0.3323\n",
      "313/313 [==============================] - 1s 2ms/step - loss: 1.2205 - accuracy: 0.8987\n",
      "313/313 [==============================] - 1s 2ms/step - loss: 37.9148 - accuracy: 0.0309\n"
     ]
    },
    {
     "data": {
      "text/plain": [
       "[37.91481018066406, 0.030899999663233757]"
      ]
     },
     "execution_count": 8,
     "metadata": {},
     "output_type": "execute_result"
    }
   ],
   "source": [
    "model.evaluate(x_test, y_test)\n",
    "model.evaluate(trop_x_test_att, y_test)\n",
    "\n",
    "relu_model.evaluate(x_test, y_test)\n",
    "relu_model.evaluate(relu_x_test_att, y_test)"
   ]
  },
  {
   "cell_type": "code",
   "execution_count": 5,
   "metadata": {},
   "outputs": [
    {
     "data": {
      "image/png": "[encoded data removed]",
      "text/plain": [
       "<Figure size 640x480 with 1 Axes>"
      ]
     },
     "metadata": {},
     "output_type": "display_data"
    },
    {
     "data": {
      "image/png": "[encoded data removed]",
      "text/plain": [
       "<Figure size 640x480 with 1 Axes>"
      ]
     },
     "metadata": {},
     "output_type": "display_data"
    }
   ],
   "source": [
    "import matplotlib.pyplot as plt\n",
    "\n",
    "plt.hist(model.get_weights()[0].flatten())\n",
    "plt.show()\n",
    "\n",
    "plt.hist(relu_model.get_weights()[0].flatten())\n",
    "plt.show()"
   ]
  }
 ],
 "metadata": {
  "kernelspec": {
   "display_name": "hpc_env",
   "language": "python",
   "name": "python3"
  },
  "language_info": {
   "codemirror_mode": {
    "name": "ipython",
    "version": 3
   },
   "file_extension": ".py",
   "mimetype": "text/x-python",
   "name": "python",
   "nbconvert_exporter": "python",
   "pygments_lexer": "ipython3",
   "version": "3.8.11"
  }
 },
 "nbformat": 4,
 "nbformat_minor": 2
}
