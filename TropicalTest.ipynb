{
 "cells": [
  {
   "cell_type": "code",
   "execution_count": 1,
   "metadata": {},
   "outputs": [],
   "source": [
    "from functions.load_data import *\n",
    "from functions.attacks import *\n",
    "from functions.models import *\n",
    "from tensorflow.keras import losses, initializers\n",
    "import csv"
   ]
  },
  {
   "cell_type": "code",
   "execution_count": null,
   "metadata": {},
   "outputs": [],
   "source": [
    "# Experiment: w\n",
    "iterations = 50 #aribitrary\n",
    "loss_object = losses.BinaryCrossentropy()\n",
    "\n",
    "for i in range(iterations):\n",
    "    print(f'================\\n\\t{i}\\n================')\n",
    "    x_train, x_test, y_train, y_test = loadCIFARData() # need to try and alter so that reading and shuffling are 2 different methods\n",
    "\n",
    "    reluModel = buildReLuModel(x_train, y_train)\n",
    "    tropModel1 = buildTropicalModel(x_train, y_train, initializer_w = initializers.random_normal)\n",
    "    tropModel2 = buildTropicalModel(x_train, y_train, initializer_w = initializers.RandomUniform(minval=-0.5, maxval=0.5))\n",
    "    tropModel3 = buildTropicalModel(x_train, y_train, initializer_w = initializers.Constant(value=0))\n",
    "    tropModel4 = buildTropicalModel(x_train, y_train, initializer_w = initializers.RandomNormal(mean=0, stddev=0.005))\n",
    "\n",
    "    relu_x_test_att = attackTestSet(reluModel, x_test, y_test, loss_object, \"ReLu\")\n",
    "    trop_x_test_att1 = attackTestSet(tropModel1, x_test, y_test, loss_object, \"Tropical\")\n",
    "    trop_x_test_att2 = attackTestSet(tropModel2, x_test, y_test, loss_object, \"Tropical\")\n",
    "    trop_x_test_att3 = attackTestSet(tropModel3, x_test, y_test, loss_object, \"Tropical\")\n",
    "    trop_x_test_att4 = attackTestSet(tropModel4, x_test, y_test, loss_object, \"Tropical\")\n",
    "    \n",
    "    relu_pre_loss, relu_pre_acc = reluModel.evaluate(x_test, y_test)\n",
    "    relu_post_loss, relu_post_acc = reluModel.evaluate(relu_x_test_att, y_test)\n",
    "\n",
    "    trop_pre_loss1, trop_pre_acc1 = tropModel1.evaluate(x_test, y_test)\n",
    "    trop_post_loss1, trop_post_acc1 = tropModel1.evaluate(trop_x_test_att1, y_test)\n",
    "\n",
    "    trop_pre_loss2, trop_pre_acc2 = tropModel2.evaluate(x_test, y_test)\n",
    "    trop_post_loss2, trop_post_acc2 = tropModel2.evaluate(trop_x_test_att2, y_test)\n",
    "\n",
    "    trop_pre_loss3, trop_pre_acc3 = tropModel3.evaluate(x_test, y_test)\n",
    "    trop_post_loss3, trop_post_acc3 = tropModel3.evaluate(trop_x_test_att3, y_test)\n",
    "\n",
    "    trop_pre_loss4, trop_pre_acc4 = tropModel4.evaluate(x_test, y_test)\n",
    "    trop_post_loss4, trop_post_acc4 = tropModel4.evaluate(trop_x_test_att4, y_test)\n",
    "\n",
    "    # - write to csv - \n",
    "    data = [relu_pre_loss, relu_pre_acc, relu_post_loss, relu_post_acc, \n",
    "            trop_pre_loss1, trop_pre_acc1, trop_post_loss1, trop_post_acc1,\n",
    "            trop_pre_loss2, trop_pre_acc2, trop_post_loss2, trop_post_acc2,\n",
    "            trop_pre_loss3, trop_pre_acc3, trop_post_loss3, trop_post_acc3,\n",
    "            trop_pre_loss4, trop_pre_acc4, trop_post_loss4, trop_post_acc4]\n",
    "    with open('output1.csv', 'a', newline='') as csvfile:\n",
    "        csvwriter = csv.writer(csvfile)\n",
    "        csvwriter.writerow(data)"
   ]
  },
  {
   "cell_type": "code",
   "execution_count": 5,
   "metadata": {},
   "outputs": [
    {
     "name": "stdout",
     "output_type": "stream",
     "text": [
      "[1.         0.98823529 0.99215686 ... 0.25098039 0.27843137 0.28235294]\n",
      "(50000, 3072)\n",
      "(50000, 10)\n"
     ]
    }
   ],
   "source": [
    "x_train, x_test, y_train, y_test = loadCIFARData()\n",
    "model = buildTropicalModel(x_train, \n",
    "                           y_train, \n",
    "                           num_epochs = 10,\n",
    "                           first_layer_size = 100, \n",
    "                           verbose = 0, \n",
    "                           initializer_w = initializers.random_normal, \n",
    "                           clipnorm = None,\n",
    "                           clipvalue = None)\n",
    "\n",
    "loss_object = losses.BinaryCrossentropy()\n",
    "x_test_attacked = attackTestSet(model, x_test, y_test, loss_object, \"ReLu\", attack='pgd', epsilon = 8/255, num_steps = 5, step_size = 0.01)\n",
    "\n",
    "model.evaluate(x_test, y_test)\n",
    "model.evaluate(x_test_attacked, y_test)"
   ]
  }
 ],
 "metadata": {
  "kernelspec": {
   "display_name": "base",
   "language": "python",
   "name": "python3"
  },
  "language_info": {
   "codemirror_mode": {
    "name": "ipython",
    "version": 3
   },
   "file_extension": ".py",
   "mimetype": "text/x-python",
   "name": "python",
   "nbconvert_exporter": "python",
   "pygments_lexer": "ipython3",
   "version": "3.10.9"
  },
  "orig_nbformat": 4
 },
 "nbformat": 4,
 "nbformat_minor": 2
}
